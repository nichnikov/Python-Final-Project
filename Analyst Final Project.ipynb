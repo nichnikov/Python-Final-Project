{
 "cells": [
  {
   "cell_type": "markdown",
   "metadata": {
    "id": "mbAwR8SQ6ChO"
   },
   "source": [
    "**1.2. Загрузка данных из csv**"
   ]
  },
  {
   "cell_type": "code",
   "execution_count": 100,
   "metadata": {
    "colab": {
     "base_uri": "https://localhost:8080/",
     "height": 617
    },
    "executionInfo": {
     "elapsed": 1805,
     "status": "ok",
     "timestamp": 1699000995040,
     "user": {
      "displayName": "Alexey Nichnikov",
      "userId": "13911750004458117276"
     },
     "user_tz": -180
    },
    "id": "L7hiVBfjr3oL",
    "outputId": "6195aba5-f74a-49d1-86d8-2ad124835434"
   },
   "outputs": [
    {
     "data": {
      "text/html": [
       "<div>\n",
       "<style scoped>\n",
       "    .dataframe tbody tr th:only-of-type {\n",
       "        vertical-align: middle;\n",
       "    }\n",
       "\n",
       "    .dataframe tbody tr th {\n",
       "        vertical-align: top;\n",
       "    }\n",
       "\n",
       "    .dataframe thead th {\n",
       "        text-align: right;\n",
       "    }\n",
       "</style>\n",
       "<table border=\"1\" class=\"dataframe\">\n",
       "  <thead>\n",
       "    <tr style=\"text-align: right;\">\n",
       "      <th></th>\n",
       "      <th>Invoice_ID</th>\n",
       "      <th>Branch</th>\n",
       "      <th>City</th>\n",
       "      <th>Customer_type</th>\n",
       "      <th>Gender</th>\n",
       "      <th>Product_line</th>\n",
       "      <th>Unit_price</th>\n",
       "      <th>Quantity</th>\n",
       "      <th>Total</th>\n",
       "      <th>Date</th>\n",
       "      <th>Time</th>\n",
       "      <th>Payment</th>\n",
       "      <th>Payments_fee</th>\n",
       "      <th>Gross_income</th>\n",
       "      <th>Cost_price</th>\n",
       "      <th>Unit_cost</th>\n",
       "    </tr>\n",
       "  </thead>\n",
       "  <tbody>\n",
       "    <tr>\n",
       "      <th>0</th>\n",
       "      <td>765-26-6951</td>\n",
       "      <td>A</td>\n",
       "      <td>Yangon</td>\n",
       "      <td>Normal</td>\n",
       "      <td>Male</td>\n",
       "      <td>Sports and travel</td>\n",
       "      <td>76.24</td>\n",
       "      <td>6</td>\n",
       "      <td>457.44</td>\n",
       "      <td>01/01/19</td>\n",
       "      <td>10:39</td>\n",
       "      <td>Credit card</td>\n",
       "      <td>13.72</td>\n",
       "      <td>68.62</td>\n",
       "      <td>388.82</td>\n",
       "      <td>64.8</td>\n",
       "    </tr>\n",
       "    <tr>\n",
       "      <th>1</th>\n",
       "      <td>530-90-9855</td>\n",
       "      <td>A</td>\n",
       "      <td>Yangon</td>\n",
       "      <td>Member</td>\n",
       "      <td>Male</td>\n",
       "      <td>Home and lifestyle</td>\n",
       "      <td>49.97</td>\n",
       "      <td>8</td>\n",
       "      <td>399.76</td>\n",
       "      <td>01/01/19</td>\n",
       "      <td>14:47</td>\n",
       "      <td>Cash</td>\n",
       "      <td>0.00</td>\n",
       "      <td>71.96</td>\n",
       "      <td>327.80</td>\n",
       "      <td>40.98</td>\n",
       "    </tr>\n",
       "    <tr>\n",
       "      <th>2</th>\n",
       "      <td>891-01-7034</td>\n",
       "      <td>B</td>\n",
       "      <td>Mandalay</td>\n",
       "      <td>Normal</td>\n",
       "      <td>Male</td>\n",
       "      <td>Electronic accessories</td>\n",
       "      <td>78.45</td>\n",
       "      <td>6</td>\n",
       "      <td>470.67</td>\n",
       "      <td>01/01/19</td>\n",
       "      <td>19:07</td>\n",
       "      <td>Cash</td>\n",
       "      <td>0.00</td>\n",
       "      <td>70.60</td>\n",
       "      <td>400.07</td>\n",
       "      <td>66.68</td>\n",
       "    </tr>\n",
       "    <tr>\n",
       "      <th>3</th>\n",
       "      <td>493-65-6248</td>\n",
       "      <td>C</td>\n",
       "      <td>Naypyitaw</td>\n",
       "      <td>Member</td>\n",
       "      <td>Female</td>\n",
       "      <td>Sports and travel</td>\n",
       "      <td>38.83</td>\n",
       "      <td>10</td>\n",
       "      <td>388.29</td>\n",
       "      <td>01/01/19</td>\n",
       "      <td>19:48</td>\n",
       "      <td>Credit card</td>\n",
       "      <td>11.65</td>\n",
       "      <td>58.24</td>\n",
       "      <td>330.05</td>\n",
       "      <td>33.01</td>\n",
       "    </tr>\n",
       "    <tr>\n",
       "      <th>4</th>\n",
       "      <td>556-97-7101</td>\n",
       "      <td>C</td>\n",
       "      <td>Naypyitaw</td>\n",
       "      <td>Normal</td>\n",
       "      <td>Female</td>\n",
       "      <td>Electronic accessories</td>\n",
       "      <td>66.38</td>\n",
       "      <td>2</td>\n",
       "      <td>132.76</td>\n",
       "      <td>01/01/19</td>\n",
       "      <td>15:51</td>\n",
       "      <td>Cash</td>\n",
       "      <td>0.00</td>\n",
       "      <td>19.91</td>\n",
       "      <td>112.85</td>\n",
       "      <td>56.43</td>\n",
       "    </tr>\n",
       "    <tr>\n",
       "      <th>...</th>\n",
       "      <td>...</td>\n",
       "      <td>...</td>\n",
       "      <td>...</td>\n",
       "      <td>...</td>\n",
       "      <td>...</td>\n",
       "      <td>...</td>\n",
       "      <td>...</td>\n",
       "      <td>...</td>\n",
       "      <td>...</td>\n",
       "      <td>...</td>\n",
       "      <td>...</td>\n",
       "      <td>...</td>\n",
       "      <td>...</td>\n",
       "      <td>...</td>\n",
       "      <td>...</td>\n",
       "      <td>...</td>\n",
       "    </tr>\n",
       "    <tr>\n",
       "      <th>1171</th>\n",
       "      <td>291-55-6563</td>\n",
       "      <td>A</td>\n",
       "      <td>Yangon</td>\n",
       "      <td>Member</td>\n",
       "      <td>Female</td>\n",
       "      <td>Home and lifestyle</td>\n",
       "      <td>36.14</td>\n",
       "      <td>6</td>\n",
       "      <td>216.85</td>\n",
       "      <td>03/30/19</td>\n",
       "      <td>12:45</td>\n",
       "      <td>Ewallet</td>\n",
       "      <td>3.25</td>\n",
       "      <td>39.03</td>\n",
       "      <td>177.82</td>\n",
       "      <td>29.64</td>\n",
       "    </tr>\n",
       "    <tr>\n",
       "      <th>1172</th>\n",
       "      <td>361-85-2571</td>\n",
       "      <td>A</td>\n",
       "      <td>Yangon</td>\n",
       "      <td>Normal</td>\n",
       "      <td>Female</td>\n",
       "      <td>Sports and travel</td>\n",
       "      <td>93.95</td>\n",
       "      <td>5</td>\n",
       "      <td>469.77</td>\n",
       "      <td>03/30/19</td>\n",
       "      <td>10:18</td>\n",
       "      <td>Cash</td>\n",
       "      <td>0.00</td>\n",
       "      <td>70.47</td>\n",
       "      <td>399.30</td>\n",
       "      <td>79.86</td>\n",
       "    </tr>\n",
       "    <tr>\n",
       "      <th>1173</th>\n",
       "      <td>364-34-2972</td>\n",
       "      <td>C</td>\n",
       "      <td>Naypyitaw</td>\n",
       "      <td>Member</td>\n",
       "      <td>Male</td>\n",
       "      <td>Electronic accessories</td>\n",
       "      <td>101.66</td>\n",
       "      <td>3</td>\n",
       "      <td>304.98</td>\n",
       "      <td>03/30/19</td>\n",
       "      <td>20:37</td>\n",
       "      <td>Cash</td>\n",
       "      <td>0.00</td>\n",
       "      <td>45.75</td>\n",
       "      <td>259.23</td>\n",
       "      <td>86.41</td>\n",
       "    </tr>\n",
       "    <tr>\n",
       "      <th>1174</th>\n",
       "      <td>115-38-7382</td>\n",
       "      <td>C</td>\n",
       "      <td>Naypyitaw</td>\n",
       "      <td>Member</td>\n",
       "      <td>Female</td>\n",
       "      <td>Fashion accessories</td>\n",
       "      <td>4.64</td>\n",
       "      <td>8</td>\n",
       "      <td>37.12</td>\n",
       "      <td>03/30/19</td>\n",
       "      <td>12:51</td>\n",
       "      <td>Credit card</td>\n",
       "      <td>1.11</td>\n",
       "      <td>9.28</td>\n",
       "      <td>27.84</td>\n",
       "      <td>3.48</td>\n",
       "    </tr>\n",
       "    <tr>\n",
       "      <th>1175</th>\n",
       "      <td>115-38-7382</td>\n",
       "      <td>C</td>\n",
       "      <td>Naypyitaw</td>\n",
       "      <td>Member</td>\n",
       "      <td>Female</td>\n",
       "      <td>Fashion accessories</td>\n",
       "      <td>4.97</td>\n",
       "      <td>8</td>\n",
       "      <td>39.75</td>\n",
       "      <td>03/30/19</td>\n",
       "      <td>12:51</td>\n",
       "      <td>Credit card</td>\n",
       "      <td>1.19</td>\n",
       "      <td>9.94</td>\n",
       "      <td>29.81</td>\n",
       "      <td>3.73</td>\n",
       "    </tr>\n",
       "  </tbody>\n",
       "</table>\n",
       "<p>1176 rows × 16 columns</p>\n",
       "</div>"
      ],
      "text/plain": [
       "       Invoice_ID Branch       City Customer_type  Gender  \\\n",
       "0     765-26-6951      A     Yangon        Normal    Male   \n",
       "1     530-90-9855      A     Yangon        Member    Male   \n",
       "2     891-01-7034      B   Mandalay        Normal    Male   \n",
       "3     493-65-6248      C  Naypyitaw        Member  Female   \n",
       "4     556-97-7101      C  Naypyitaw        Normal  Female   \n",
       "...           ...    ...        ...           ...     ...   \n",
       "1171  291-55-6563      A     Yangon        Member  Female   \n",
       "1172  361-85-2571      A     Yangon        Normal  Female   \n",
       "1173  364-34-2972      C  Naypyitaw        Member    Male   \n",
       "1174  115-38-7382      C  Naypyitaw        Member  Female   \n",
       "1175  115-38-7382      C  Naypyitaw        Member  Female   \n",
       "\n",
       "                Product_line  Unit_price  Quantity   Total      Date   Time  \\\n",
       "0          Sports and travel       76.24         6  457.44  01/01/19  10:39   \n",
       "1         Home and lifestyle       49.97         8  399.76  01/01/19  14:47   \n",
       "2     Electronic accessories       78.45         6  470.67  01/01/19  19:07   \n",
       "3          Sports and travel       38.83        10  388.29  01/01/19  19:48   \n",
       "4     Electronic accessories       66.38         2  132.76  01/01/19  15:51   \n",
       "...                      ...         ...       ...     ...       ...    ...   \n",
       "1171      Home and lifestyle       36.14         6  216.85  03/30/19  12:45   \n",
       "1172       Sports and travel       93.95         5  469.77  03/30/19  10:18   \n",
       "1173  Electronic accessories      101.66         3  304.98  03/30/19  20:37   \n",
       "1174     Fashion accessories        4.64         8   37.12  03/30/19  12:51   \n",
       "1175     Fashion accessories        4.97         8   39.75  03/30/19  12:51   \n",
       "\n",
       "          Payment  Payments_fee  Gross_income  Cost_price Unit_cost  \n",
       "0     Credit card         13.72         68.62      388.82      64.8  \n",
       "1            Cash          0.00         71.96      327.80     40.98  \n",
       "2            Cash          0.00         70.60      400.07     66.68  \n",
       "3     Credit card         11.65         58.24      330.05     33.01  \n",
       "4            Cash          0.00         19.91      112.85     56.43  \n",
       "...           ...           ...           ...         ...       ...  \n",
       "1171      Ewallet          3.25         39.03      177.82     29.64  \n",
       "1172         Cash          0.00         70.47      399.30     79.86  \n",
       "1173         Cash          0.00         45.75      259.23     86.41  \n",
       "1174  Credit card          1.11          9.28       27.84      3.48  \n",
       "1175  Credit card          1.19          9.94       29.81      3.73  \n",
       "\n",
       "[1176 rows x 16 columns]"
      ]
     },
     "execution_count": 100,
     "metadata": {},
     "output_type": "execute_result"
    }
   ],
   "source": [
    "\n",
    "# прочитаем датафрейм и посмотрим на него:\n",
    "import os\n",
    "import pandas as pd\n",
    "\n",
    "df = pd.read_csv(os.path.join(\"./supermarket_sales.csv\"))\n",
    "df"
   ]
  },
  {
   "cell_type": "markdown",
   "metadata": {
    "id": "Vwfuo_DW6TFh"
   },
   "source": [
    "**1.3 Проверка и анализ типа входящих данных**"
   ]
  },
  {
   "cell_type": "code",
   "execution_count": 101,
   "metadata": {
    "colab": {
     "base_uri": "https://localhost:8080/"
    },
    "executionInfo": {
     "elapsed": 377,
     "status": "ok",
     "timestamp": 1699000999722,
     "user": {
      "displayName": "Alexey Nichnikov",
      "userId": "13911750004458117276"
     },
     "user_tz": -180
    },
    "id": "vDapDi-g6bMi",
    "outputId": "1d591b32-7058-4c2e-ff88-c4cde4ab59a5",
    "scrolled": true
   },
   "outputs": [
    {
     "name": "stdout",
     "output_type": "stream",
     "text": [
      "<class 'pandas.core.frame.DataFrame'>\n",
      "RangeIndex: 1176 entries, 0 to 1175\n",
      "Data columns (total 16 columns):\n",
      " #   Column         Non-Null Count  Dtype  \n",
      "---  ------         --------------  -----  \n",
      " 0   Invoice_ID     1176 non-null   object \n",
      " 1   Branch         1175 non-null   object \n",
      " 2   City           1175 non-null   object \n",
      " 3   Customer_type  1176 non-null   object \n",
      " 4   Gender         1175 non-null   object \n",
      " 5   Product_line   1175 non-null   object \n",
      " 6   Unit_price     1175 non-null   float64\n",
      " 7   Quantity       1176 non-null   int64  \n",
      " 8   Total          1176 non-null   float64\n",
      " 9   Date           1175 non-null   object \n",
      " 10  Time           1175 non-null   object \n",
      " 11  Payment        1175 non-null   object \n",
      " 12  Payments_fee   1176 non-null   float64\n",
      " 13  Gross_income   1175 non-null   float64\n",
      " 14  Cost_price     1176 non-null   float64\n",
      " 15  Unit_cost      1175 non-null   object \n",
      "dtypes: float64(5), int64(1), object(10)\n",
      "memory usage: 147.1+ KB\n"
     ]
    }
   ],
   "source": [
    "# выведем типы данных:\n",
    "df.info()"
   ]
  },
  {
   "cell_type": "markdown",
   "metadata": {
    "id": "CLR4AwaP6gjP"
   },
   "source": [
    "https://pandas.pydata.org/docs/user_guide/basics.html#basics-dtypes\n",
    "\n",
    "\n",
    "Типы данных для числовых полей:\n",
    "* Unit_price  float64\n",
    "* Quantity   int64  \n",
    "* Total   float64\n",
    "* Payments_fee   float64\n",
    "* Gross_income   float64\n",
    "* Cost_price   float64\n",
    "\n",
    "автоматически назначены правильно. Не требуют коррекции\n",
    "\n",
    "Для полей в которых содержатся категориальные признаки:\n",
    "\n",
    "* Branch  object\n",
    "* City  object\n",
    "* Customer_type object\n",
    "* Gender  object\n",
    "* Product_line  object\n",
    "* Payments object\n",
    "\n",
    "лучше подходит тип **Categorical**\n",
    "\n",
    "\n",
    "Для полей с датой и временем:\n",
    "\n",
    "* Date  object\n",
    "* Time  object\n",
    "\n",
    "должен быть тип **datetime**\n",
    "\n"
   ]
  },
  {
   "cell_type": "code",
   "execution_count": 102,
   "metadata": {
    "colab": {
     "base_uri": "https://localhost:8080/"
    },
    "executionInfo": {
     "elapsed": 318,
     "status": "ok",
     "timestamp": 1699001022396,
     "user": {
      "displayName": "Alexey Nichnikov",
      "userId": "13911750004458117276"
     },
     "user_tz": -180
    },
    "id": "ztwnarlL9PSP",
    "outputId": "f3a70dac-884d-4a37-e04d-6897ba2d9839"
   },
   "outputs": [
    {
     "name": "stdout",
     "output_type": "stream",
     "text": [
      "<class 'pandas.core.frame.DataFrame'>\n",
      "RangeIndex: 1176 entries, 0 to 1175\n",
      "Data columns (total 16 columns):\n",
      " #   Column         Non-Null Count  Dtype         \n",
      "---  ------         --------------  -----         \n",
      " 0   Invoice_ID     1176 non-null   object        \n",
      " 1   Branch         1175 non-null   category      \n",
      " 2   City           1175 non-null   category      \n",
      " 3   Customer_type  1176 non-null   object        \n",
      " 4   Gender         1175 non-null   category      \n",
      " 5   Product_line   1175 non-null   category      \n",
      " 6   Unit_price     1175 non-null   float64       \n",
      " 7   Quantity       1176 non-null   int64         \n",
      " 8   Total          1176 non-null   float64       \n",
      " 9   Date           1175 non-null   datetime64[ns]\n",
      " 10  Time           1175 non-null   datetime64[ns]\n",
      " 11  Payment        1175 non-null   category      \n",
      " 12  Payments_fee   1176 non-null   float64       \n",
      " 13  Gross_income   1175 non-null   float64       \n",
      " 14  Cost_price     1176 non-null   float64       \n",
      " 15  Unit_cost      1175 non-null   object        \n",
      "dtypes: category(5), datetime64[ns](2), float64(5), int64(1), object(3)\n",
      "memory usage: 107.8+ KB\n"
     ]
    },
    {
     "name": "stderr",
     "output_type": "stream",
     "text": [
      "/tmp/ipykernel_8568/3968984724.py:9: UserWarning: Could not infer format, so each element will be parsed individually, falling back to `dateutil`. To ensure parsing is consistent and as-expected, please specify a format.\n",
      "  df['Date'] = df['Date'].astype('datetime64[ns]')\n",
      "/tmp/ipykernel_8568/3968984724.py:10: UserWarning: Could not infer format, so each element will be parsed individually, falling back to `dateutil`. To ensure parsing is consistent and as-expected, please specify a format.\n",
      "  df['Time'] = df['Time'].astype('datetime64[ns]')\n"
     ]
    }
   ],
   "source": [
    "# проведем замену типа данных object на  Categorical (https://pandas.pydata.org/docs/user_guide/categorical.html):\n",
    "df[\"Branch\"] = df[\"Branch\"].astype(\"category\")\n",
    "df[\"City\"] = df[\"City\"].astype(\"category\")\n",
    "df[\"Gender\"] = df[\"Gender\"].astype(\"category\")\n",
    "df[\"Product_line\"] = df[\"Product_line\"].astype(\"category\")\n",
    "df[\"Payment\"] = df[\"Payment\"].astype(\"category\")\n",
    "\n",
    "# проведем замену типа object на datetime\n",
    "df['Date'] = df['Date'].astype('datetime64[ns]')\n",
    "df['Time'] = df['Time'].astype('datetime64[ns]')\n",
    "df.info()"
   ]
  },
  {
   "cell_type": "code",
   "execution_count": 103,
   "metadata": {
    "colab": {
     "base_uri": "https://localhost:8080/"
    },
    "executionInfo": {
     "elapsed": 329,
     "status": "ok",
     "timestamp": 1699001039177,
     "user": {
      "displayName": "Alexey Nichnikov",
      "userId": "13911750004458117276"
     },
     "user_tz": -180
    },
    "id": "MCSfwFIi_G8u",
    "outputId": "11537f43-ac29-4730-eb98-c27af16fe0c5"
   },
   "outputs": [
    {
     "name": "stdout",
     "output_type": "stream",
     "text": [
      "<class 'pandas.core.frame.DataFrame'>\n",
      "RangeIndex: 1176 entries, 0 to 1175\n",
      "Data columns (total 16 columns):\n",
      " #   Column         Non-Null Count  Dtype         \n",
      "---  ------         --------------  -----         \n",
      " 0   Invoice_ID     1176 non-null   object        \n",
      " 1   Branch         1175 non-null   category      \n",
      " 2   City           1175 non-null   category      \n",
      " 3   Customer_type  1176 non-null   category      \n",
      " 4   Gender         1175 non-null   category      \n",
      " 5   Product_line   1175 non-null   category      \n",
      " 6   Unit_price     1175 non-null   float64       \n",
      " 7   Quantity       1176 non-null   int64         \n",
      " 8   Total          1176 non-null   float64       \n",
      " 9   Date           1175 non-null   datetime64[ns]\n",
      " 10  Time           1175 non-null   datetime64[ns]\n",
      " 11  Payment        1175 non-null   category      \n",
      " 12  Payments_fee   1176 non-null   float64       \n",
      " 13  Gross_income   1175 non-null   float64       \n",
      " 14  Cost_price     1176 non-null   float64       \n",
      " 15  Unit_cost      1175 non-null   object        \n",
      "dtypes: category(6), datetime64[ns](2), float64(5), int64(1), object(2)\n",
      "memory usage: 99.9+ KB\n"
     ]
    }
   ],
   "source": [
    "# замену типов можно сделать более элегантно:\n",
    "for col in [\"Branch\", \"City\", \"Gender\", \"Product_line\", \"Payment\"]:\n",
    "  df[col] = df[col].astype(\"category\")\n",
    "\n",
    "for col in ['Date', 'Time']:\n",
    "  df[col] = df[col].astype('datetime64[ns]')\n",
    "\n",
    "# или даже так:\n",
    "fields_types = [(\"Branch\", \"category\"), (\"City\", \"category\"), (\"Gender\", \"category\"),\n",
    " (\"Product_line\", \"category\"), (\"Payment\", \"category\"), ('Date', 'datetime64[ns]'),\n",
    "  ('Time', 'datetime64[ns]'), (\"Customer_type\", \"category\")]\n",
    "\n",
    "for col, tp in fields_types:\n",
    "  df[col] = df[col].astype(tp)\n",
    "\n",
    "df.info()"
   ]
  },
  {
   "cell_type": "code",
   "execution_count": 104,
   "metadata": {},
   "outputs": [
    {
     "name": "stderr",
     "output_type": "stream",
     "text": [
      "/tmp/ipykernel_8568/1552714253.py:4: SettingWithCopyWarning: \n",
      "A value is trying to be set on a copy of a slice from a DataFrame\n",
      "\n",
      "See the caveats in the documentation: https://pandas.pydata.org/pandas-docs/stable/user_guide/indexing.html#returning-a-view-versus-a-copy\n",
      "  df[\"Unit_cost\"][df[\"Unit_cost\"] == \"#DIV/0!\"] = 0.0\n"
     ]
    }
   ],
   "source": [
    "# попробуем заменить поле Unit_cost на тип float64\n",
    "# у нас возникает проблема, т. к. одно из значений этого поля #DIV/0!\n",
    "# сначала заменим это значение на 0:\n",
    "df[\"Unit_cost\"][df[\"Unit_cost\"] == \"#DIV/0!\"] = 0.0\n",
    "# после этого поменяем тип поля\n",
    "df[\"Unit_cost\"] = df[\"Unit_cost\"].astype(\"float64\")"
   ]
  },
  {
   "cell_type": "markdown",
   "metadata": {
    "id": "88JA_-YUU9qF"
   },
   "source": [
    "**1.4 Проверка наличие дубликатов в данных**\n"
   ]
  },
  {
   "cell_type": "code",
   "execution_count": 105,
   "metadata": {
    "colab": {
     "base_uri": "https://localhost:8080/",
     "height": 400
    },
    "executionInfo": {
     "elapsed": 12,
     "status": "ok",
     "timestamp": 1698920985602,
     "user": {
      "displayName": "Alexey Nichnikov",
      "userId": "13911750004458117276"
     },
     "user_tz": -180
    },
    "id": "xWqhbgOFVKjI",
    "outputId": "3f26ea4c-faf5-4152-c23a-d3f7d2bcbab3",
    "scrolled": true
   },
   "outputs": [
    {
     "data": {
      "text/html": [
       "<div>\n",
       "<style scoped>\n",
       "    .dataframe tbody tr th:only-of-type {\n",
       "        vertical-align: middle;\n",
       "    }\n",
       "\n",
       "    .dataframe tbody tr th {\n",
       "        vertical-align: top;\n",
       "    }\n",
       "\n",
       "    .dataframe thead th {\n",
       "        text-align: right;\n",
       "    }\n",
       "</style>\n",
       "<table border=\"1\" class=\"dataframe\">\n",
       "  <thead>\n",
       "    <tr style=\"text-align: right;\">\n",
       "      <th></th>\n",
       "      <th>Invoice_ID</th>\n",
       "      <th>Branch</th>\n",
       "      <th>City</th>\n",
       "      <th>Customer_type</th>\n",
       "      <th>Gender</th>\n",
       "      <th>Product_line</th>\n",
       "      <th>Unit_price</th>\n",
       "      <th>Quantity</th>\n",
       "      <th>Total</th>\n",
       "      <th>Date</th>\n",
       "      <th>Time</th>\n",
       "      <th>Payment</th>\n",
       "      <th>Payments_fee</th>\n",
       "      <th>Gross_income</th>\n",
       "      <th>Cost_price</th>\n",
       "      <th>Unit_cost</th>\n",
       "    </tr>\n",
       "  </thead>\n",
       "  <tbody>\n",
       "    <tr>\n",
       "      <th>33</th>\n",
       "      <td>656-16-1063</td>\n",
       "      <td>B</td>\n",
       "      <td>Mandalay</td>\n",
       "      <td>Normal</td>\n",
       "      <td>Male</td>\n",
       "      <td>Sports and travel</td>\n",
       "      <td>48.74</td>\n",
       "      <td>3</td>\n",
       "      <td>146.22</td>\n",
       "      <td>2019-01-04</td>\n",
       "      <td>2023-11-05 13:24:00</td>\n",
       "      <td>Credit card</td>\n",
       "      <td>4.39</td>\n",
       "      <td>21.93</td>\n",
       "      <td>124.29</td>\n",
       "      <td>41.43</td>\n",
       "    </tr>\n",
       "    <tr>\n",
       "      <th>80</th>\n",
       "      <td>750-57-9686</td>\n",
       "      <td>C</td>\n",
       "      <td>Naypyitaw</td>\n",
       "      <td>Normal</td>\n",
       "      <td>Female</td>\n",
       "      <td>Home and lifestyle</td>\n",
       "      <td>47.65</td>\n",
       "      <td>4</td>\n",
       "      <td>190.60</td>\n",
       "      <td>2019-01-08</td>\n",
       "      <td>2023-11-05 13:48:00</td>\n",
       "      <td>Credit card</td>\n",
       "      <td>5.72</td>\n",
       "      <td>34.31</td>\n",
       "      <td>156.29</td>\n",
       "      <td>39.07</td>\n",
       "    </tr>\n",
       "    <tr>\n",
       "      <th>131</th>\n",
       "      <td>659-36-1684</td>\n",
       "      <td>C</td>\n",
       "      <td>Naypyitaw</td>\n",
       "      <td>Member</td>\n",
       "      <td>Male</td>\n",
       "      <td>Sports and travel</td>\n",
       "      <td>59.98</td>\n",
       "      <td>7</td>\n",
       "      <td>419.83</td>\n",
       "      <td>2019-01-12</td>\n",
       "      <td>2023-11-05 12:02:00</td>\n",
       "      <td>Credit card</td>\n",
       "      <td>12.59</td>\n",
       "      <td>62.97</td>\n",
       "      <td>356.86</td>\n",
       "      <td>50.98</td>\n",
       "    </tr>\n",
       "    <tr>\n",
       "      <th>161</th>\n",
       "      <td>785-13-7708</td>\n",
       "      <td>B</td>\n",
       "      <td>Mandalay</td>\n",
       "      <td>Normal</td>\n",
       "      <td>Male</td>\n",
       "      <td>Food and beverages</td>\n",
       "      <td>76.71</td>\n",
       "      <td>7</td>\n",
       "      <td>536.99</td>\n",
       "      <td>2019-01-14</td>\n",
       "      <td>2023-11-05 19:06:00</td>\n",
       "      <td>Credit card</td>\n",
       "      <td>16.11</td>\n",
       "      <td>64.44</td>\n",
       "      <td>472.55</td>\n",
       "      <td>67.51</td>\n",
       "    </tr>\n",
       "    <tr>\n",
       "      <th>201</th>\n",
       "      <td>286-62-6249</td>\n",
       "      <td>B</td>\n",
       "      <td>Mandalay</td>\n",
       "      <td>Normal</td>\n",
       "      <td>Male</td>\n",
       "      <td>Clothes and accessories</td>\n",
       "      <td>25.01</td>\n",
       "      <td>5</td>\n",
       "      <td>125.06</td>\n",
       "      <td>2019-01-16</td>\n",
       "      <td>2023-11-05 20:12:00</td>\n",
       "      <td>Credit card</td>\n",
       "      <td>2.48</td>\n",
       "      <td>8.75</td>\n",
       "      <td>116.31</td>\n",
       "      <td>23.26</td>\n",
       "    </tr>\n",
       "  </tbody>\n",
       "</table>\n",
       "</div>"
      ],
      "text/plain": [
       "      Invoice_ID Branch       City Customer_type  Gender  \\\n",
       "33   656-16-1063      B   Mandalay        Normal    Male   \n",
       "80   750-57-9686      C  Naypyitaw        Normal  Female   \n",
       "131  659-36-1684      C  Naypyitaw        Member    Male   \n",
       "161  785-13-7708      B   Mandalay        Normal    Male   \n",
       "201  286-62-6249      B   Mandalay        Normal    Male   \n",
       "\n",
       "                Product_line  Unit_price  Quantity   Total       Date  \\\n",
       "33         Sports and travel       48.74         3  146.22 2019-01-04   \n",
       "80        Home and lifestyle       47.65         4  190.60 2019-01-08   \n",
       "131        Sports and travel       59.98         7  419.83 2019-01-12   \n",
       "161       Food and beverages       76.71         7  536.99 2019-01-14   \n",
       "201  Clothes and accessories       25.01         5  125.06 2019-01-16   \n",
       "\n",
       "                   Time      Payment  Payments_fee  Gross_income  Cost_price  \\\n",
       "33  2023-11-05 13:24:00  Credit card          4.39         21.93      124.29   \n",
       "80  2023-11-05 13:48:00  Credit card          5.72         34.31      156.29   \n",
       "131 2023-11-05 12:02:00  Credit card         12.59         62.97      356.86   \n",
       "161 2023-11-05 19:06:00  Credit card         16.11         64.44      472.55   \n",
       "201 2023-11-05 20:12:00  Credit card          2.48          8.75      116.31   \n",
       "\n",
       "     Unit_cost  \n",
       "33       41.43  \n",
       "80       39.07  \n",
       "131      50.98  \n",
       "161      67.51  \n",
       "201      23.26  "
      ]
     },
     "execution_count": 105,
     "metadata": {},
     "output_type": "execute_result"
    }
   ],
   "source": [
    "# проверим на наличие дубликатов: https://pandas.pydata.org/docs/reference/api/pandas.DataFrame.duplicated.html\n",
    "# как находить дубликаты, можно посмотреть по ссылке: https://www.statology.org/pandas-find-duplicates/\n",
    "duplicateRows = df[df.duplicated(keep='last')]\n",
    "duplicateRows"
   ]
  },
  {
   "cell_type": "markdown",
   "metadata": {
    "id": "wDBzLc7KYR17"
   },
   "source": [
    "Таким образом мы нашли 5 строк у которых есть дубли, теперь давайте их удалим:"
   ]
  },
  {
   "cell_type": "code",
   "execution_count": 106,
   "metadata": {
    "id": "SLagMHW2buLo"
   },
   "outputs": [],
   "source": [
    "df.drop_duplicates(inplace=True) # удаление дубликатов из датафрейма"
   ]
  },
  {
   "cell_type": "markdown",
   "metadata": {
    "id": "_ud0dVl5ksp2"
   },
   "source": [
    "**2.1 Исследование категориальных типов данных**"
   ]
  },
  {
   "cell_type": "markdown",
   "metadata": {
    "id": "_LzxPCwflD2Q"
   },
   "source": [
    "После того, как мы заменили тип данных на category, для того, чтобы узнать, какие значения принимают категориальные признаки, достаточно вывести соответствующее поле датафрейма, тогда под датафреймом выводится список категорий"
   ]
  },
  {
   "cell_type": "code",
   "execution_count": 107,
   "metadata": {
    "colab": {
     "base_uri": "https://localhost:8080/"
    },
    "executionInfo": {
     "elapsed": 246,
     "status": "ok",
     "timestamp": 1698920991289,
     "user": {
      "displayName": "Alexey Nichnikov",
      "userId": "13911750004458117276"
     },
     "user_tz": -180
    },
    "id": "13_87Dcvk1Tg",
    "outputId": "6d546380-e4a3-4abb-9d8e-28cf5a7f0cf1"
   },
   "outputs": [
    {
     "name": "stdout",
     "output_type": "stream",
     "text": [
      "0       A\n",
      "1       A\n",
      "2       B\n",
      "3       C\n",
      "4       C\n",
      "       ..\n",
      "1171    A\n",
      "1172    A\n",
      "1173    C\n",
      "1174    C\n",
      "1175    C\n",
      "Name: Branch, Length: 1171, dtype: category\n",
      "Categories (3, object): ['A', 'B', 'C']\n",
      "0          Yangon\n",
      "1          Yangon\n",
      "2        Mandalay\n",
      "3       Naypyitaw\n",
      "4       Naypyitaw\n",
      "          ...    \n",
      "1171       Yangon\n",
      "1172       Yangon\n",
      "1173    Naypyitaw\n",
      "1174    Naypyitaw\n",
      "1175    Naypyitaw\n",
      "Name: City, Length: 1171, dtype: category\n",
      "Categories (3, object): ['Mandalay', 'Naypyitaw', 'Yangon']\n",
      "0         Male\n",
      "1         Male\n",
      "2         Male\n",
      "3       Female\n",
      "4       Female\n",
      "         ...  \n",
      "1171    Female\n",
      "1172    Female\n",
      "1173      Male\n",
      "1174    Female\n",
      "1175    Female\n",
      "Name: Gender, Length: 1171, dtype: category\n",
      "Categories (2, object): ['Female', 'Male']\n",
      "0            Sports and travel\n",
      "1           Home and lifestyle\n",
      "2       Electronic accessories\n",
      "3            Sports and travel\n",
      "4       Electronic accessories\n",
      "                 ...          \n",
      "1171        Home and lifestyle\n",
      "1172         Sports and travel\n",
      "1173    Electronic accessories\n",
      "1174       Fashion accessories\n",
      "1175       Fashion accessories\n",
      "Name: Product_line, Length: 1171, dtype: category\n",
      "Categories (7, object): ['Clothes and accessories', 'Electronic accessories', 'Fashion accessories', 'Food and beverages', 'Health and beauty', 'Home and lifestyle', 'Sports and travel']\n",
      "0       Credit card\n",
      "1              Cash\n",
      "2              Cash\n",
      "3       Credit card\n",
      "4              Cash\n",
      "           ...     \n",
      "1171        Ewallet\n",
      "1172           Cash\n",
      "1173           Cash\n",
      "1174    Credit card\n",
      "1175    Credit card\n",
      "Name: Payment, Length: 1171, dtype: category\n",
      "Categories (3, object): ['Cash', 'Credit card', 'Ewallet']\n",
      "Branch\n",
      "City\n",
      "Gender\n",
      "Product_line\n",
      "Payment\n"
     ]
    }
   ],
   "source": [
    "print(df[\"Branch\"])\n",
    "print(df[\"City\"])\n",
    "print(df[\"Gender\"])\n",
    "print(df[\"Product_line\"])\n",
    "print(df[\"Payment\"])\n",
    "\n",
    "# или более элегантно:\n",
    "for cl in [\"Branch\", \"City\", \"Gender\", \"Product_line\", \"Payment\"]:\n",
    "  print(cl)"
   ]
  },
  {
   "cell_type": "markdown",
   "metadata": {
    "id": "o2D-137UmAp4"
   },
   "source": [
    "другой вариант получить уникальные значения, использовать соответствующий метод pandas"
   ]
  },
  {
   "cell_type": "code",
   "execution_count": 108,
   "metadata": {
    "colab": {
     "base_uri": "https://localhost:8080/"
    },
    "executionInfo": {
     "elapsed": 280,
     "status": "ok",
     "timestamp": 1698920994885,
     "user": {
      "displayName": "Alexey Nichnikov",
      "userId": "13911750004458117276"
     },
     "user_tz": -180
    },
    "id": "KhZC5dZ8mHLI",
    "outputId": "342b9267-39c2-4269-a8fd-3a7d68ac94b3"
   },
   "outputs": [
    {
     "name": "stdout",
     "output_type": "stream",
     "text": [
      "['A', 'B', 'C', NaN]\n",
      "Categories (3, object): ['A', 'B', 'C']\n",
      "['Yangon', 'Mandalay', 'Naypyitaw', NaN]\n",
      "Categories (3, object): ['Mandalay', 'Naypyitaw', 'Yangon']\n",
      "['Male', 'Female', NaN]\n",
      "Categories (2, object): ['Female', 'Male']\n",
      "['Sports and travel', 'Home and lifestyle', 'Electronic accessories', 'Health and beauty', 'Fashion accessories', 'Food and beverages', 'Clothes and accessories', NaN]\n",
      "Categories (7, object): ['Clothes and accessories', 'Electronic accessories', 'Fashion accessories', 'Food and beverages', 'Health and beauty', 'Home and lifestyle', 'Sports and travel']\n",
      "['Credit card', 'Cash', 'Ewallet', NaN]\n",
      "Categories (3, object): ['Cash', 'Credit card', 'Ewallet']\n"
     ]
    }
   ],
   "source": [
    "for cl in [\"Branch\", \"City\", \"Gender\", \"Product_line\", \"Payment\"]:\n",
    "  print(df[cl].unique())"
   ]
  },
  {
   "cell_type": "markdown",
   "metadata": {
    "id": "YEPY8yhum1PY"
   },
   "source": [
    "**2.2 Статистический анализ датасета, поиск аномалий**"
   ]
  },
  {
   "cell_type": "code",
   "execution_count": 109,
   "metadata": {
    "colab": {
     "base_uri": "https://localhost:8080/",
     "height": 300
    },
    "executionInfo": {
     "elapsed": 266,
     "status": "ok",
     "timestamp": 1698920998545,
     "user": {
      "displayName": "Alexey Nichnikov",
      "userId": "13911750004458117276"
     },
     "user_tz": -180
    },
    "id": "J8_NdgLftEXd",
    "outputId": "463d980f-41d9-45fc-be8f-bc13758a1866"
   },
   "outputs": [
    {
     "data": {
      "text/html": [
       "<div>\n",
       "<style scoped>\n",
       "    .dataframe tbody tr th:only-of-type {\n",
       "        vertical-align: middle;\n",
       "    }\n",
       "\n",
       "    .dataframe tbody tr th {\n",
       "        vertical-align: top;\n",
       "    }\n",
       "\n",
       "    .dataframe thead th {\n",
       "        text-align: right;\n",
       "    }\n",
       "</style>\n",
       "<table border=\"1\" class=\"dataframe\">\n",
       "  <thead>\n",
       "    <tr style=\"text-align: right;\">\n",
       "      <th></th>\n",
       "      <th>Unit_price</th>\n",
       "      <th>Quantity</th>\n",
       "      <th>Total</th>\n",
       "      <th>Date</th>\n",
       "      <th>Time</th>\n",
       "      <th>Payments_fee</th>\n",
       "      <th>Gross_income</th>\n",
       "      <th>Cost_price</th>\n",
       "      <th>Unit_cost</th>\n",
       "    </tr>\n",
       "  </thead>\n",
       "  <tbody>\n",
       "    <tr>\n",
       "      <th>count</th>\n",
       "      <td>1170.000000</td>\n",
       "      <td>1171.000000</td>\n",
       "      <td>1171.000000</td>\n",
       "      <td>1170</td>\n",
       "      <td>1170</td>\n",
       "      <td>1171.000000</td>\n",
       "      <td>1170.000000</td>\n",
       "      <td>1171.000000</td>\n",
       "      <td>1170.000000</td>\n",
       "    </tr>\n",
       "    <tr>\n",
       "      <th>mean</th>\n",
       "      <td>54.589624</td>\n",
       "      <td>5.518360</td>\n",
       "      <td>1146.387515</td>\n",
       "      <td>2019-02-13 22:26:27.692307456</td>\n",
       "      <td>2023-11-05 15:26:39.948718080</td>\n",
       "      <td>4.377506</td>\n",
       "      <td>50.361709</td>\n",
       "      <td>1096.068813</td>\n",
       "      <td>45.298120</td>\n",
       "    </tr>\n",
       "    <tr>\n",
       "      <th>min</th>\n",
       "      <td>-80.000000</td>\n",
       "      <td>0.000000</td>\n",
       "      <td>-1200.000000</td>\n",
       "      <td>2019-01-01 00:00:00</td>\n",
       "      <td>2023-11-05 10:00:00</td>\n",
       "      <td>0.000000</td>\n",
       "      <td>-216.000000</td>\n",
       "      <td>-984.000000</td>\n",
       "      <td>-65.600000</td>\n",
       "    </tr>\n",
       "    <tr>\n",
       "      <th>25%</th>\n",
       "      <td>27.510000</td>\n",
       "      <td>3.000000</td>\n",
       "      <td>100.840000</td>\n",
       "      <td>2019-01-24 00:00:00</td>\n",
       "      <td>2023-11-05 12:46:00</td>\n",
       "      <td>0.000000</td>\n",
       "      <td>13.880000</td>\n",
       "      <td>84.630000</td>\n",
       "      <td>23.252500</td>\n",
       "    </tr>\n",
       "    <tr>\n",
       "      <th>50%</th>\n",
       "      <td>53.720000</td>\n",
       "      <td>5.000000</td>\n",
       "      <td>214.140000</td>\n",
       "      <td>2019-02-13 00:00:00</td>\n",
       "      <td>2023-11-05 15:23:00</td>\n",
       "      <td>2.230000</td>\n",
       "      <td>35.780000</td>\n",
       "      <td>177.820000</td>\n",
       "      <td>43.555000</td>\n",
       "    </tr>\n",
       "    <tr>\n",
       "      <th>75%</th>\n",
       "      <td>79.355000</td>\n",
       "      <td>8.000000</td>\n",
       "      <td>432.110000</td>\n",
       "      <td>2019-03-08 00:00:00</td>\n",
       "      <td>2023-11-05 18:17:00</td>\n",
       "      <td>6.180000</td>\n",
       "      <td>73.395000</td>\n",
       "      <td>358.090000</td>\n",
       "      <td>66.180000</td>\n",
       "    </tr>\n",
       "    <tr>\n",
       "      <th>max</th>\n",
       "      <td>271.490000</td>\n",
       "      <td>15.000000</td>\n",
       "      <td>1000000.000000</td>\n",
       "      <td>2019-03-30 00:00:00</td>\n",
       "      <td>2023-11-05 21:02:00</td>\n",
       "      <td>31.280000</td>\n",
       "      <td>260.660000</td>\n",
       "      <td>1000000.000000</td>\n",
       "      <td>252.490000</td>\n",
       "    </tr>\n",
       "    <tr>\n",
       "      <th>std</th>\n",
       "      <td>31.367511</td>\n",
       "      <td>2.957008</td>\n",
       "      <td>29215.251818</td>\n",
       "      <td>NaN</td>\n",
       "      <td>NaN</td>\n",
       "      <td>5.870741</td>\n",
       "      <td>47.182333</td>\n",
       "      <td>29216.395509</td>\n",
       "      <td>26.437064</td>\n",
       "    </tr>\n",
       "  </tbody>\n",
       "</table>\n",
       "</div>"
      ],
      "text/plain": [
       "        Unit_price     Quantity           Total  \\\n",
       "count  1170.000000  1171.000000     1171.000000   \n",
       "mean     54.589624     5.518360     1146.387515   \n",
       "min     -80.000000     0.000000    -1200.000000   \n",
       "25%      27.510000     3.000000      100.840000   \n",
       "50%      53.720000     5.000000      214.140000   \n",
       "75%      79.355000     8.000000      432.110000   \n",
       "max     271.490000    15.000000  1000000.000000   \n",
       "std      31.367511     2.957008    29215.251818   \n",
       "\n",
       "                                Date                           Time  \\\n",
       "count                           1170                           1170   \n",
       "mean   2019-02-13 22:26:27.692307456  2023-11-05 15:26:39.948718080   \n",
       "min              2019-01-01 00:00:00            2023-11-05 10:00:00   \n",
       "25%              2019-01-24 00:00:00            2023-11-05 12:46:00   \n",
       "50%              2019-02-13 00:00:00            2023-11-05 15:23:00   \n",
       "75%              2019-03-08 00:00:00            2023-11-05 18:17:00   \n",
       "max              2019-03-30 00:00:00            2023-11-05 21:02:00   \n",
       "std                              NaN                            NaN   \n",
       "\n",
       "       Payments_fee  Gross_income      Cost_price    Unit_cost  \n",
       "count   1171.000000   1170.000000     1171.000000  1170.000000  \n",
       "mean       4.377506     50.361709     1096.068813    45.298120  \n",
       "min        0.000000   -216.000000     -984.000000   -65.600000  \n",
       "25%        0.000000     13.880000       84.630000    23.252500  \n",
       "50%        2.230000     35.780000      177.820000    43.555000  \n",
       "75%        6.180000     73.395000      358.090000    66.180000  \n",
       "max       31.280000    260.660000  1000000.000000   252.490000  \n",
       "std        5.870741     47.182333    29216.395509    26.437064  "
      ]
     },
     "execution_count": 109,
     "metadata": {},
     "output_type": "execute_result"
    }
   ],
   "source": [
    "df.describe()"
   ]
  },
  {
   "cell_type": "markdown",
   "metadata": {
    "id": "gGsjq9t7LVno"
   },
   "source": [
    "**2.3 Поиск и удаление аномалий**"
   ]
  },
  {
   "cell_type": "markdown",
   "metadata": {
    "id": "rc4g9tSXFF0B"
   },
   "source": [
    "Подозрительными являются отрицательные значения для цены единицы товара и выручки.\n",
    "Посмотрим, что это за записи"
   ]
  },
  {
   "cell_type": "code",
   "execution_count": 110,
   "metadata": {
    "colab": {
     "base_uri": "https://localhost:8080/",
     "height": 135
    },
    "executionInfo": {
     "elapsed": 251,
     "status": "ok",
     "timestamp": 1698921000828,
     "user": {
      "displayName": "Alexey Nichnikov",
      "userId": "13911750004458117276"
     },
     "user_tz": -180
    },
    "id": "XYGQR5dv9Nvo",
    "outputId": "5907db17-c08c-45f5-9d5a-72bc40c94305"
   },
   "outputs": [
    {
     "data": {
      "text/html": [
       "<div>\n",
       "<style scoped>\n",
       "    .dataframe tbody tr th:only-of-type {\n",
       "        vertical-align: middle;\n",
       "    }\n",
       "\n",
       "    .dataframe tbody tr th {\n",
       "        vertical-align: top;\n",
       "    }\n",
       "\n",
       "    .dataframe thead th {\n",
       "        text-align: right;\n",
       "    }\n",
       "</style>\n",
       "<table border=\"1\" class=\"dataframe\">\n",
       "  <thead>\n",
       "    <tr style=\"text-align: right;\">\n",
       "      <th></th>\n",
       "      <th>Invoice_ID</th>\n",
       "      <th>Branch</th>\n",
       "      <th>City</th>\n",
       "      <th>Customer_type</th>\n",
       "      <th>Gender</th>\n",
       "      <th>Product_line</th>\n",
       "      <th>Unit_price</th>\n",
       "      <th>Quantity</th>\n",
       "      <th>Total</th>\n",
       "      <th>Date</th>\n",
       "      <th>Time</th>\n",
       "      <th>Payment</th>\n",
       "      <th>Payments_fee</th>\n",
       "      <th>Gross_income</th>\n",
       "      <th>Cost_price</th>\n",
       "      <th>Unit_cost</th>\n",
       "    </tr>\n",
       "  </thead>\n",
       "  <tbody>\n",
       "    <tr>\n",
       "      <th>157</th>\n",
       "      <td>195-06-0437</td>\n",
       "      <td>A</td>\n",
       "      <td>Yangon</td>\n",
       "      <td>Member</td>\n",
       "      <td>Male</td>\n",
       "      <td>Home and lifestyle</td>\n",
       "      <td>-80.0</td>\n",
       "      <td>15</td>\n",
       "      <td>-1200.0</td>\n",
       "      <td>2019-01-13</td>\n",
       "      <td>2023-11-05 13:00:00</td>\n",
       "      <td>Credit card</td>\n",
       "      <td>0.0</td>\n",
       "      <td>-216.0</td>\n",
       "      <td>-984.0</td>\n",
       "      <td>-65.6</td>\n",
       "    </tr>\n",
       "  </tbody>\n",
       "</table>\n",
       "</div>"
      ],
      "text/plain": [
       "      Invoice_ID Branch    City Customer_type Gender        Product_line  \\\n",
       "157  195-06-0437      A  Yangon        Member   Male  Home and lifestyle   \n",
       "\n",
       "     Unit_price  Quantity   Total       Date                Time      Payment  \\\n",
       "157       -80.0        15 -1200.0 2019-01-13 2023-11-05 13:00:00  Credit card   \n",
       "\n",
       "     Payments_fee  Gross_income  Cost_price  Unit_cost  \n",
       "157           0.0        -216.0      -984.0      -65.6  "
      ]
     },
     "execution_count": 110,
     "metadata": {},
     "output_type": "execute_result"
    }
   ],
   "source": [
    "# минимум для цены\n",
    "df[df[\"Unit_price\"] == df[\"Unit_price\"].min()]"
   ]
  },
  {
   "cell_type": "code",
   "execution_count": 111,
   "metadata": {
    "colab": {
     "base_uri": "https://localhost:8080/",
     "height": 135
    },
    "executionInfo": {
     "elapsed": 275,
     "status": "ok",
     "timestamp": 1698921003513,
     "user": {
      "displayName": "Alexey Nichnikov",
      "userId": "13911750004458117276"
     },
     "user_tz": -180
    },
    "id": "Vlamrab8IXDl",
    "outputId": "a3bde6df-c992-4690-b80a-6856b2729bc6"
   },
   "outputs": [
    {
     "data": {
      "text/html": [
       "<div>\n",
       "<style scoped>\n",
       "    .dataframe tbody tr th:only-of-type {\n",
       "        vertical-align: middle;\n",
       "    }\n",
       "\n",
       "    .dataframe tbody tr th {\n",
       "        vertical-align: top;\n",
       "    }\n",
       "\n",
       "    .dataframe thead th {\n",
       "        text-align: right;\n",
       "    }\n",
       "</style>\n",
       "<table border=\"1\" class=\"dataframe\">\n",
       "  <thead>\n",
       "    <tr style=\"text-align: right;\">\n",
       "      <th></th>\n",
       "      <th>Invoice_ID</th>\n",
       "      <th>Branch</th>\n",
       "      <th>City</th>\n",
       "      <th>Customer_type</th>\n",
       "      <th>Gender</th>\n",
       "      <th>Product_line</th>\n",
       "      <th>Unit_price</th>\n",
       "      <th>Quantity</th>\n",
       "      <th>Total</th>\n",
       "      <th>Date</th>\n",
       "      <th>Time</th>\n",
       "      <th>Payment</th>\n",
       "      <th>Payments_fee</th>\n",
       "      <th>Gross_income</th>\n",
       "      <th>Cost_price</th>\n",
       "      <th>Unit_cost</th>\n",
       "    </tr>\n",
       "  </thead>\n",
       "  <tbody>\n",
       "    <tr>\n",
       "      <th>157</th>\n",
       "      <td>195-06-0437</td>\n",
       "      <td>A</td>\n",
       "      <td>Yangon</td>\n",
       "      <td>Member</td>\n",
       "      <td>Male</td>\n",
       "      <td>Home and lifestyle</td>\n",
       "      <td>-80.0</td>\n",
       "      <td>15</td>\n",
       "      <td>-1200.0</td>\n",
       "      <td>2019-01-13</td>\n",
       "      <td>2023-11-05 13:00:00</td>\n",
       "      <td>Credit card</td>\n",
       "      <td>0.0</td>\n",
       "      <td>-216.0</td>\n",
       "      <td>-984.0</td>\n",
       "      <td>-65.6</td>\n",
       "    </tr>\n",
       "  </tbody>\n",
       "</table>\n",
       "</div>"
      ],
      "text/plain": [
       "      Invoice_ID Branch    City Customer_type Gender        Product_line  \\\n",
       "157  195-06-0437      A  Yangon        Member   Male  Home and lifestyle   \n",
       "\n",
       "     Unit_price  Quantity   Total       Date                Time      Payment  \\\n",
       "157       -80.0        15 -1200.0 2019-01-13 2023-11-05 13:00:00  Credit card   \n",
       "\n",
       "     Payments_fee  Gross_income  Cost_price  Unit_cost  \n",
       "157           0.0        -216.0      -984.0      -65.6  "
      ]
     },
     "execution_count": 111,
     "metadata": {},
     "output_type": "execute_result"
    }
   ],
   "source": [
    "# минимум для выручки\n",
    "df[df[\"Total\"] == df[\"Total\"].min()]"
   ]
  },
  {
   "cell_type": "markdown",
   "metadata": {
    "id": "Fzn59PYMKvg9"
   },
   "source": [
    "Видим, что отрицательное значение цены и выручки в одной и той же строке, очевидно, что цена товара и выручка от продажи не могут быть отрицательными (кроме случаев, когда было произведено исправление ошибочной записи, некоторые учетные программы не позволяют удалять исторические значения и для удаления или корректировки, приходится вносить запись с отрицательными цифрами, но мы тут такое не рассматриваем)"
   ]
  },
  {
   "cell_type": "code",
   "execution_count": 112,
   "metadata": {
    "colab": {
     "base_uri": "https://localhost:8080/",
     "height": 135
    },
    "executionInfo": {
     "elapsed": 238,
     "status": "ok",
     "timestamp": 1698921005864,
     "user": {
      "displayName": "Alexey Nichnikov",
      "userId": "13911750004458117276"
     },
     "user_tz": -180
    },
    "id": "zumlGo60IMfN",
    "outputId": "2111888f-f318-4036-cdfa-eba3e0718bf9"
   },
   "outputs": [
    {
     "data": {
      "text/html": [
       "<div>\n",
       "<style scoped>\n",
       "    .dataframe tbody tr th:only-of-type {\n",
       "        vertical-align: middle;\n",
       "    }\n",
       "\n",
       "    .dataframe tbody tr th {\n",
       "        vertical-align: top;\n",
       "    }\n",
       "\n",
       "    .dataframe thead th {\n",
       "        text-align: right;\n",
       "    }\n",
       "</style>\n",
       "<table border=\"1\" class=\"dataframe\">\n",
       "  <thead>\n",
       "    <tr style=\"text-align: right;\">\n",
       "      <th></th>\n",
       "      <th>Invoice_ID</th>\n",
       "      <th>Branch</th>\n",
       "      <th>City</th>\n",
       "      <th>Customer_type</th>\n",
       "      <th>Gender</th>\n",
       "      <th>Product_line</th>\n",
       "      <th>Unit_price</th>\n",
       "      <th>Quantity</th>\n",
       "      <th>Total</th>\n",
       "      <th>Date</th>\n",
       "      <th>Time</th>\n",
       "      <th>Payment</th>\n",
       "      <th>Payments_fee</th>\n",
       "      <th>Gross_income</th>\n",
       "      <th>Cost_price</th>\n",
       "      <th>Unit_cost</th>\n",
       "    </tr>\n",
       "  </thead>\n",
       "  <tbody>\n",
       "    <tr>\n",
       "      <th>82</th>\n",
       "      <td>750-57-9690</td>\n",
       "      <td>C</td>\n",
       "      <td>Naypyitaw</td>\n",
       "      <td>Normal</td>\n",
       "      <td>Female</td>\n",
       "      <td>Home and lifestyle</td>\n",
       "      <td>0.0</td>\n",
       "      <td>0</td>\n",
       "      <td>1000000.0</td>\n",
       "      <td>2019-01-08</td>\n",
       "      <td>2023-11-05 13:48:00</td>\n",
       "      <td>Credit card</td>\n",
       "      <td>0.0</td>\n",
       "      <td>0.0</td>\n",
       "      <td>1000000.0</td>\n",
       "      <td>NaN</td>\n",
       "    </tr>\n",
       "  </tbody>\n",
       "</table>\n",
       "</div>"
      ],
      "text/plain": [
       "     Invoice_ID Branch       City Customer_type  Gender        Product_line  \\\n",
       "82  750-57-9690      C  Naypyitaw        Normal  Female  Home and lifestyle   \n",
       "\n",
       "    Unit_price  Quantity      Total       Date                Time  \\\n",
       "82         0.0         0  1000000.0 2019-01-08 2023-11-05 13:48:00   \n",
       "\n",
       "        Payment  Payments_fee  Gross_income  Cost_price  Unit_cost  \n",
       "82  Credit card           0.0           0.0   1000000.0        NaN  "
      ]
     },
     "execution_count": 112,
     "metadata": {},
     "output_type": "execute_result"
    }
   ],
   "source": [
    "# максимум для выручки\n",
    "df[df[\"Total\"] == df[\"Total\"].max()]"
   ]
  },
  {
   "cell_type": "code",
   "execution_count": 113,
   "metadata": {
    "colab": {
     "base_uri": "https://localhost:8080/"
    },
    "executionInfo": {
     "elapsed": 3,
     "status": "ok",
     "timestamp": 1698311123809,
     "user": {
      "displayName": "Alexey Nichnikov",
      "userId": "13911750004458117276"
     },
     "user_tz": -180
    },
    "id": "kQnqkl6XIc9_",
    "outputId": "4e65a8ef-c950-4419-8658-7ab1bd3c7d7d"
   },
   "outputs": [
    {
     "data": {
      "text/plain": [
       "342419.78"
      ]
     },
     "execution_count": 113,
     "metadata": {},
     "output_type": "execute_result"
    }
   ],
   "source": [
    "# посмотрим всю выручку без учета 82 строки (82 индекса)\n",
    "df[\"Total\"].drop(index=82, axis=0).sum()"
   ]
  },
  {
   "cell_type": "markdown",
   "metadata": {
    "id": "R1vHIcXNJKWt"
   },
   "source": [
    "сумма по всем продажам за 3 месяца по всем дивизионам почти в 3 раза меньше, чем одна продажа, скорее всего в данных ошибка (отсутствие количества проданных товаров, также подтверждает нашу догадку). Удалим ошибочные значения из нашего датасета."
   ]
  },
  {
   "cell_type": "code",
   "execution_count": 114,
   "metadata": {
    "colab": {
     "base_uri": "https://localhost:8080/",
     "height": 300
    },
    "executionInfo": {
     "elapsed": 239,
     "status": "ok",
     "timestamp": 1698921008690,
     "user": {
      "displayName": "Alexey Nichnikov",
      "userId": "13911750004458117276"
     },
     "user_tz": -180
    },
    "id": "zotfOTC8A9nR",
    "outputId": "af20332c-81d0-4980-e1be-a4b718edc57b"
   },
   "outputs": [
    {
     "data": {
      "text/html": [
       "<div>\n",
       "<style scoped>\n",
       "    .dataframe tbody tr th:only-of-type {\n",
       "        vertical-align: middle;\n",
       "    }\n",
       "\n",
       "    .dataframe tbody tr th {\n",
       "        vertical-align: top;\n",
       "    }\n",
       "\n",
       "    .dataframe thead th {\n",
       "        text-align: right;\n",
       "    }\n",
       "</style>\n",
       "<table border=\"1\" class=\"dataframe\">\n",
       "  <thead>\n",
       "    <tr style=\"text-align: right;\">\n",
       "      <th></th>\n",
       "      <th>Unit_price</th>\n",
       "      <th>Quantity</th>\n",
       "      <th>Total</th>\n",
       "      <th>Date</th>\n",
       "      <th>Time</th>\n",
       "      <th>Payments_fee</th>\n",
       "      <th>Gross_income</th>\n",
       "      <th>Cost_price</th>\n",
       "      <th>Unit_cost</th>\n",
       "    </tr>\n",
       "  </thead>\n",
       "  <tbody>\n",
       "    <tr>\n",
       "      <th>count</th>\n",
       "      <td>1168.000000</td>\n",
       "      <td>1169.000000</td>\n",
       "      <td>1169.000000</td>\n",
       "      <td>1168</td>\n",
       "      <td>1168</td>\n",
       "      <td>1169.000000</td>\n",
       "      <td>1168.000000</td>\n",
       "      <td>1169.000000</td>\n",
       "      <td>1169.000000</td>\n",
       "    </tr>\n",
       "    <tr>\n",
       "      <th>mean</th>\n",
       "      <td>54.751592</td>\n",
       "      <td>5.514970</td>\n",
       "      <td>293.943353</td>\n",
       "      <td>2019-02-13 23:51:22.191780864</td>\n",
       "      <td>2023-11-05 15:26:52.551369728</td>\n",
       "      <td>4.384996</td>\n",
       "      <td>50.632877</td>\n",
       "      <td>243.353790</td>\n",
       "      <td>45.392985</td>\n",
       "    </tr>\n",
       "    <tr>\n",
       "      <th>min</th>\n",
       "      <td>0.500000</td>\n",
       "      <td>0.000000</td>\n",
       "      <td>3.740000</td>\n",
       "      <td>2019-01-01 00:00:00</td>\n",
       "      <td>2023-11-05 10:00:00</td>\n",
       "      <td>0.000000</td>\n",
       "      <td>0.260000</td>\n",
       "      <td>3.480000</td>\n",
       "      <td>0.000000</td>\n",
       "    </tr>\n",
       "    <tr>\n",
       "      <th>25%</th>\n",
       "      <td>27.562500</td>\n",
       "      <td>3.000000</td>\n",
       "      <td>100.920000</td>\n",
       "      <td>2019-01-24 00:00:00</td>\n",
       "      <td>2023-11-05 12:46:00</td>\n",
       "      <td>0.000000</td>\n",
       "      <td>13.925000</td>\n",
       "      <td>84.650000</td>\n",
       "      <td>23.260000</td>\n",
       "    </tr>\n",
       "    <tr>\n",
       "      <th>50%</th>\n",
       "      <td>53.795000</td>\n",
       "      <td>5.000000</td>\n",
       "      <td>214.140000</td>\n",
       "      <td>2019-02-13 00:00:00</td>\n",
       "      <td>2023-11-05 15:23:00</td>\n",
       "      <td>2.240000</td>\n",
       "      <td>35.920000</td>\n",
       "      <td>177.820000</td>\n",
       "      <td>43.560000</td>\n",
       "    </tr>\n",
       "    <tr>\n",
       "      <th>75%</th>\n",
       "      <td>79.387500</td>\n",
       "      <td>8.000000</td>\n",
       "      <td>431.450000</td>\n",
       "      <td>2019-03-08 00:00:00</td>\n",
       "      <td>2023-11-05 18:17:15</td>\n",
       "      <td>6.190000</td>\n",
       "      <td>73.450000</td>\n",
       "      <td>356.860000</td>\n",
       "      <td>66.230000</td>\n",
       "    </tr>\n",
       "    <tr>\n",
       "      <th>max</th>\n",
       "      <td>271.490000</td>\n",
       "      <td>12.000000</td>\n",
       "      <td>1042.650000</td>\n",
       "      <td>2019-03-30 00:00:00</td>\n",
       "      <td>2023-11-05 21:02:00</td>\n",
       "      <td>31.280000</td>\n",
       "      <td>260.660000</td>\n",
       "      <td>910.320000</td>\n",
       "      <td>252.490000</td>\n",
       "    </tr>\n",
       "    <tr>\n",
       "      <th>std</th>\n",
       "      <td>31.104743</td>\n",
       "      <td>2.942076</td>\n",
       "      <td>240.730397</td>\n",
       "      <td>NaN</td>\n",
       "      <td>NaN</td>\n",
       "      <td>5.872967</td>\n",
       "      <td>46.550458</td>\n",
       "      <td>198.430836</td>\n",
       "      <td>26.248396</td>\n",
       "    </tr>\n",
       "  </tbody>\n",
       "</table>\n",
       "</div>"
      ],
      "text/plain": [
       "        Unit_price     Quantity        Total                           Date  \\\n",
       "count  1168.000000  1169.000000  1169.000000                           1168   \n",
       "mean     54.751592     5.514970   293.943353  2019-02-13 23:51:22.191780864   \n",
       "min       0.500000     0.000000     3.740000            2019-01-01 00:00:00   \n",
       "25%      27.562500     3.000000   100.920000            2019-01-24 00:00:00   \n",
       "50%      53.795000     5.000000   214.140000            2019-02-13 00:00:00   \n",
       "75%      79.387500     8.000000   431.450000            2019-03-08 00:00:00   \n",
       "max     271.490000    12.000000  1042.650000            2019-03-30 00:00:00   \n",
       "std      31.104743     2.942076   240.730397                            NaN   \n",
       "\n",
       "                                Time  Payments_fee  Gross_income   Cost_price  \\\n",
       "count                           1168   1169.000000   1168.000000  1169.000000   \n",
       "mean   2023-11-05 15:26:52.551369728      4.384996     50.632877   243.353790   \n",
       "min              2023-11-05 10:00:00      0.000000      0.260000     3.480000   \n",
       "25%              2023-11-05 12:46:00      0.000000     13.925000    84.650000   \n",
       "50%              2023-11-05 15:23:00      2.240000     35.920000   177.820000   \n",
       "75%              2023-11-05 18:17:15      6.190000     73.450000   356.860000   \n",
       "max              2023-11-05 21:02:00     31.280000    260.660000   910.320000   \n",
       "std                              NaN      5.872967     46.550458   198.430836   \n",
       "\n",
       "         Unit_cost  \n",
       "count  1169.000000  \n",
       "mean     45.392985  \n",
       "min       0.000000  \n",
       "25%      23.260000  \n",
       "50%      43.560000  \n",
       "75%      66.230000  \n",
       "max     252.490000  \n",
       "std      26.248396  "
      ]
     },
     "execution_count": 114,
     "metadata": {},
     "output_type": "execute_result"
    }
   ],
   "source": [
    "df.drop(index=[82, 157], axis=0, inplace=True)\n",
    "df.describe()"
   ]
  },
  {
   "cell_type": "markdown",
   "metadata": {
    "id": "YizXSI9-KOS_"
   },
   "source": [
    "Теперь все числовые значения кажутся разумными"
   ]
  },
  {
   "cell_type": "markdown",
   "metadata": {
    "id": "OyhHndRhLf1x"
   },
   "source": [
    "**2.4 Поиск и заполнение пропусков в данных**"
   ]
  },
  {
   "cell_type": "code",
   "execution_count": 115,
   "metadata": {
    "colab": {
     "base_uri": "https://localhost:8080/"
    },
    "executionInfo": {
     "elapsed": 7,
     "status": "ok",
     "timestamp": 1698921012792,
     "user": {
      "displayName": "Alexey Nichnikov",
      "userId": "13911750004458117276"
     },
     "user_tz": -180
    },
    "id": "mxFF36tGTD4A",
    "outputId": "795789af-8420-4439-815e-0b5893c98801"
   },
   "outputs": [
    {
     "name": "stdout",
     "output_type": "stream",
     "text": [
      "<class 'pandas.core.frame.DataFrame'>\n",
      "Index: 1169 entries, 0 to 1175\n",
      "Data columns (total 16 columns):\n",
      " #   Column         Non-Null Count  Dtype         \n",
      "---  ------         --------------  -----         \n",
      " 0   Invoice_ID     1169 non-null   object        \n",
      " 1   Branch         1168 non-null   category      \n",
      " 2   City           1168 non-null   category      \n",
      " 3   Customer_type  1169 non-null   category      \n",
      " 4   Gender         1168 non-null   category      \n",
      " 5   Product_line   1168 non-null   category      \n",
      " 6   Unit_price     1168 non-null   float64       \n",
      " 7   Quantity       1169 non-null   int64         \n",
      " 8   Total          1169 non-null   float64       \n",
      " 9   Date           1168 non-null   datetime64[ns]\n",
      " 10  Time           1168 non-null   datetime64[ns]\n",
      " 11  Payment        1168 non-null   category      \n",
      " 12  Payments_fee   1169 non-null   float64       \n",
      " 13  Gross_income   1168 non-null   float64       \n",
      " 14  Cost_price     1169 non-null   float64       \n",
      " 15  Unit_cost      1169 non-null   float64       \n",
      "dtypes: category(6), datetime64[ns](2), float64(6), int64(1), object(1)\n",
      "memory usage: 108.3+ KB\n"
     ]
    }
   ],
   "source": [
    "df.info()"
   ]
  },
  {
   "cell_type": "code",
   "execution_count": 116,
   "metadata": {
    "colab": {
     "base_uri": "https://localhost:8080/"
    },
    "executionInfo": {
     "elapsed": 244,
     "status": "ok",
     "timestamp": 1698921016902,
     "user": {
      "displayName": "Alexey Nichnikov",
      "userId": "13911750004458117276"
     },
     "user_tz": -180
    },
    "id": "-H9A-reYKh4q",
    "outputId": "85ea2299-64f3-49be-d185-a3109b6d3d91"
   },
   "outputs": [
    {
     "name": "stdout",
     "output_type": "stream",
     "text": [
      "      Invoice_ID Branch City Customer_type Gender Product_line  Unit_price  \\\n",
      "273  604-70-6480    NaN  NaN        Member    NaN          NaN         NaN   \n",
      "\n",
      "     Quantity  Total Date Time Payment  Payments_fee  Gross_income  \\\n",
      "273         0    5.0  NaT  NaT     NaN           1.0           NaN   \n",
      "\n",
      "     Cost_price  Unit_cost  \n",
      "273         5.0        0.0  \n",
      "      Invoice_ID Branch City Customer_type Gender Product_line  Unit_price  \\\n",
      "273  604-70-6480    NaN  NaN        Member    NaN          NaN         NaN   \n",
      "\n",
      "     Quantity  Total Date Time Payment  Payments_fee  Gross_income  \\\n",
      "273         0    5.0  NaT  NaT     NaN           1.0           NaN   \n",
      "\n",
      "     Cost_price  Unit_cost  \n",
      "273         5.0        0.0  \n",
      "Empty DataFrame\n",
      "Columns: [Invoice_ID, Branch, City, Customer_type, Gender, Product_line, Unit_price, Quantity, Total, Date, Time, Payment, Payments_fee, Gross_income, Cost_price, Unit_cost]\n",
      "Index: []\n",
      "      Invoice_ID Branch City Customer_type Gender Product_line  Unit_price  \\\n",
      "273  604-70-6480    NaN  NaN        Member    NaN          NaN         NaN   \n",
      "\n",
      "     Quantity  Total Date Time Payment  Payments_fee  Gross_income  \\\n",
      "273         0    5.0  NaT  NaT     NaN           1.0           NaN   \n",
      "\n",
      "     Cost_price  Unit_cost  \n",
      "273         5.0        0.0  \n",
      "      Invoice_ID Branch City Customer_type Gender Product_line  Unit_price  \\\n",
      "273  604-70-6480    NaN  NaN        Member    NaN          NaN         NaN   \n",
      "\n",
      "     Quantity  Total Date Time Payment  Payments_fee  Gross_income  \\\n",
      "273         0    5.0  NaT  NaT     NaN           1.0           NaN   \n",
      "\n",
      "     Cost_price  Unit_cost  \n",
      "273         5.0        0.0  \n",
      "      Invoice_ID Branch City Customer_type Gender Product_line  Unit_price  \\\n",
      "273  604-70-6480    NaN  NaN        Member    NaN          NaN         NaN   \n",
      "\n",
      "     Quantity  Total Date Time Payment  Payments_fee  Gross_income  \\\n",
      "273         0    5.0  NaT  NaT     NaN           1.0           NaN   \n",
      "\n",
      "     Cost_price  Unit_cost  \n",
      "273         5.0        0.0  \n",
      "Empty DataFrame\n",
      "Columns: [Invoice_ID, Branch, City, Customer_type, Gender, Product_line, Unit_price, Quantity, Total, Date, Time, Payment, Payments_fee, Gross_income, Cost_price, Unit_cost]\n",
      "Index: []\n",
      "Empty DataFrame\n",
      "Columns: [Invoice_ID, Branch, City, Customer_type, Gender, Product_line, Unit_price, Quantity, Total, Date, Time, Payment, Payments_fee, Gross_income, Cost_price, Unit_cost]\n",
      "Index: []\n",
      "      Invoice_ID Branch City Customer_type Gender Product_line  Unit_price  \\\n",
      "273  604-70-6480    NaN  NaN        Member    NaN          NaN         NaN   \n",
      "\n",
      "     Quantity  Total Date Time Payment  Payments_fee  Gross_income  \\\n",
      "273         0    5.0  NaT  NaT     NaN           1.0           NaN   \n",
      "\n",
      "     Cost_price  Unit_cost  \n",
      "273         5.0        0.0  \n",
      "      Invoice_ID Branch City Customer_type Gender Product_line  Unit_price  \\\n",
      "273  604-70-6480    NaN  NaN        Member    NaN          NaN         NaN   \n",
      "\n",
      "     Quantity  Total Date Time Payment  Payments_fee  Gross_income  \\\n",
      "273         0    5.0  NaT  NaT     NaN           1.0           NaN   \n",
      "\n",
      "     Cost_price  Unit_cost  \n",
      "273         5.0        0.0  \n",
      "      Invoice_ID Branch City Customer_type Gender Product_line  Unit_price  \\\n",
      "273  604-70-6480    NaN  NaN        Member    NaN          NaN         NaN   \n",
      "\n",
      "     Quantity  Total Date Time Payment  Payments_fee  Gross_income  \\\n",
      "273         0    5.0  NaT  NaT     NaN           1.0           NaN   \n",
      "\n",
      "     Cost_price  Unit_cost  \n",
      "273         5.0        0.0  \n",
      "Empty DataFrame\n",
      "Columns: [Invoice_ID, Branch, City, Customer_type, Gender, Product_line, Unit_price, Quantity, Total, Date, Time, Payment, Payments_fee, Gross_income, Cost_price, Unit_cost]\n",
      "Index: []\n",
      "      Invoice_ID Branch City Customer_type Gender Product_line  Unit_price  \\\n",
      "273  604-70-6480    NaN  NaN        Member    NaN          NaN         NaN   \n",
      "\n",
      "     Quantity  Total Date Time Payment  Payments_fee  Gross_income  \\\n",
      "273         0    5.0  NaT  NaT     NaN           1.0           NaN   \n",
      "\n",
      "     Cost_price  Unit_cost  \n",
      "273         5.0        0.0  \n",
      "Empty DataFrame\n",
      "Columns: [Invoice_ID, Branch, City, Customer_type, Gender, Product_line, Unit_price, Quantity, Total, Date, Time, Payment, Payments_fee, Gross_income, Cost_price, Unit_cost]\n",
      "Index: []\n"
     ]
    }
   ],
   "source": [
    "# выведем строки с пропусками в данных:\n",
    "columns = ['Branch', 'City', 'Customer_type', 'Gender', 'Product_line',\n",
    "                    'Unit_price', 'Quantity', 'Total', 'Date', 'Time',\n",
    "                    'Payment', 'Payments_fee', 'Gross_income', 'Unit_cost']\n",
    "for col in columns:\n",
    "  print(df[df[col].isnull()])"
   ]
  },
  {
   "cell_type": "markdown",
   "metadata": {
    "id": "u6lTqcp1SDuD"
   },
   "source": [
    "В датасете есть только одна строка с пропущенными данными (не считая полей с неправдоподбными значениями).\n",
    "Проще и, возможно, правильнее было бы ее удалить. Удаление данной строки не является неправильным решением со стороны аналитика.\n",
    "\n",
    "Но т. к. стоит задача, заполнить наиболее частотными значениями для категориальных признаков и средними для числовых, то сделаем это. Остался вопрос со столбцом даты и времени."
   ]
  },
  {
   "cell_type": "code",
   "execution_count": 117,
   "metadata": {
    "colab": {
     "base_uri": "https://localhost:8080/"
    },
    "executionInfo": {
     "elapsed": 232,
     "status": "ok",
     "timestamp": 1698921021094,
     "user": {
      "displayName": "Alexey Nichnikov",
      "userId": "13911750004458117276"
     },
     "user_tz": -180
    },
    "id": "HCoOU7k8Melq",
    "outputId": "c3474a9e-65e7-48ba-8bfd-ad3490ceef21"
   },
   "outputs": [
    {
     "name": "stdout",
     "output_type": "stream",
     "text": [
      "Branch\n",
      "B         393\n",
      "C         389\n",
      "A         386\n",
      "Name: count, dtype: int64\n",
      "City     \n",
      "Mandalay     393\n",
      "Naypyitaw    389\n",
      "Yangon       386\n",
      "Name: count, dtype: int64\n",
      "Customer_type\n",
      "Normal           586\n",
      "Member           583\n",
      "Name: count, dtype: int64\n",
      "Gender\n",
      "Female    635\n",
      "Male      533\n",
      "Name: count, dtype: int64\n",
      "Product_line           \n",
      "Fashion accessories        198\n",
      "Food and beverages         174\n",
      "Electronic accessories     170\n",
      "Sports and travel          166\n",
      "Home and lifestyle         160\n",
      "Health and beauty          152\n",
      "Clothes and accessories    148\n",
      "Name: count, dtype: int64\n",
      "Payment    \n",
      "Ewallet        406\n",
      "Cash           392\n",
      "Credit card    370\n",
      "Name: count, dtype: int64\n"
     ]
    }
   ],
   "source": [
    "# категориальные признаки:\n",
    "category_columns = ['Branch', 'City', 'Customer_type', 'Gender', 'Product_line', 'Payment']\n",
    "\n",
    "# выведем для каждого категориального признака количество значений:\n",
    "for col in category_columns:\n",
    "  print(df[[col]].value_counts())"
   ]
  },
  {
   "cell_type": "code",
   "execution_count": 118,
   "metadata": {
    "colab": {
     "base_uri": "https://localhost:8080/"
    },
    "executionInfo": {
     "elapsed": 248,
     "status": "ok",
     "timestamp": 1698921028022,
     "user": {
      "displayName": "Alexey Nichnikov",
      "userId": "13911750004458117276"
     },
     "user_tz": -180
    },
    "id": "vyiMsydFXTUC",
    "outputId": "74fd8334-8b02-48e7-8e6c-ff2a805e18cb"
   },
   "outputs": [
    {
     "name": "stdout",
     "output_type": "stream",
     "text": [
      "Branch :  B\n",
      "City :  Mandalay\n",
      "Customer_type :  Normal\n",
      "Gender :  Female\n",
      "Product_line :  Fashion accessories\n",
      "Payment :  Ewallet\n"
     ]
    }
   ],
   "source": [
    "# выведем самые частотные значения для каждого категориального признака:\n",
    "for col in category_columns:\n",
    "  print(col, \": \", df[col].value_counts().idxmax())"
   ]
  },
  {
   "cell_type": "code",
   "execution_count": 119,
   "metadata": {
    "colab": {
     "background_save": true,
     "base_uri": "https://localhost:8080/",
     "height": 326
    },
    "executionInfo": {
     "elapsed": 253,
     "status": "ok",
     "timestamp": 1698921582092,
     "user": {
      "displayName": "Alexey Nichnikov",
      "userId": "13911750004458117276"
     },
     "user_tz": -180
    },
    "id": "SGZc6JpYUwp3",
    "outputId": "3612fdfa-409d-4aed-ee65-bb1f5be7cb22",
    "scrolled": true
   },
   "outputs": [
    {
     "name": "stdout",
     "output_type": "stream",
     "text": [
      "      Invoice_ID Branch City Customer_type Gender Product_line  Unit_price  \\\n",
      "273  604-70-6480    NaN  NaN        Member    NaN          NaN         NaN   \n",
      "\n",
      "     Quantity  Total Date Time Payment  Payments_fee  Gross_income  \\\n",
      "273         0    5.0  NaT  NaT     NaN           1.0           NaN   \n",
      "\n",
      "     Cost_price  Unit_cost  \n",
      "273         5.0        0.0  \n"
     ]
    }
   ],
   "source": [
    "# заполним пропуски в категориальных признаках самым частотным значением:\n",
    "print(df[df[col].isnull()])\n",
    "\n",
    "for col in category_columns:\n",
    "  df[col][df[col].isnull()] = df[col].value_counts().idxmax()"
   ]
  },
  {
   "cell_type": "code",
   "execution_count": 122,
   "metadata": {
    "id": "zg4JnoCuaNCQ"
   },
   "outputs": [
    {
     "data": {
      "text/html": [
       "<div>\n",
       "<style scoped>\n",
       "    .dataframe tbody tr th:only-of-type {\n",
       "        vertical-align: middle;\n",
       "    }\n",
       "\n",
       "    .dataframe tbody tr th {\n",
       "        vertical-align: top;\n",
       "    }\n",
       "\n",
       "    .dataframe thead th {\n",
       "        text-align: right;\n",
       "    }\n",
       "</style>\n",
       "<table border=\"1\" class=\"dataframe\">\n",
       "  <thead>\n",
       "    <tr style=\"text-align: right;\">\n",
       "      <th></th>\n",
       "      <th>Invoice_ID</th>\n",
       "      <th>Branch</th>\n",
       "      <th>City</th>\n",
       "      <th>Customer_type</th>\n",
       "      <th>Gender</th>\n",
       "      <th>Product_line</th>\n",
       "      <th>Unit_price</th>\n",
       "      <th>Quantity</th>\n",
       "      <th>Total</th>\n",
       "      <th>Date</th>\n",
       "      <th>Time</th>\n",
       "      <th>Payment</th>\n",
       "      <th>Payments_fee</th>\n",
       "      <th>Gross_income</th>\n",
       "      <th>Cost_price</th>\n",
       "      <th>Unit_cost</th>\n",
       "    </tr>\n",
       "  </thead>\n",
       "  <tbody>\n",
       "    <tr>\n",
       "      <th>273</th>\n",
       "      <td>604-70-6480</td>\n",
       "      <td>B</td>\n",
       "      <td>Mandalay</td>\n",
       "      <td>Member</td>\n",
       "      <td>Female</td>\n",
       "      <td>Fashion accessories</td>\n",
       "      <td>NaN</td>\n",
       "      <td>0</td>\n",
       "      <td>5.0</td>\n",
       "      <td>NaT</td>\n",
       "      <td>NaT</td>\n",
       "      <td>Ewallet</td>\n",
       "      <td>1.0</td>\n",
       "      <td>NaN</td>\n",
       "      <td>5.0</td>\n",
       "      <td>0.0</td>\n",
       "    </tr>\n",
       "  </tbody>\n",
       "</table>\n",
       "</div>"
      ],
      "text/plain": [
       "      Invoice_ID Branch      City Customer_type  Gender         Product_line  \\\n",
       "273  604-70-6480      B  Mandalay        Member  Female  Fashion accessories   \n",
       "\n",
       "     Unit_price  Quantity  Total Date Time  Payment  Payments_fee  \\\n",
       "273         NaN         0    5.0  NaT  NaT  Ewallet           1.0   \n",
       "\n",
       "     Gross_income  Cost_price  Unit_cost  \n",
       "273           NaN         5.0        0.0  "
      ]
     },
     "execution_count": 122,
     "metadata": {},
     "output_type": "execute_result"
    }
   ],
   "source": [
    "df[266:267]"
   ]
  },
  {
   "cell_type": "markdown",
   "metadata": {},
   "source": [
    "Перейдем к числовым признакам"
   ]
  },
  {
   "cell_type": "code",
   "execution_count": 121,
   "metadata": {},
   "outputs": [
    {
     "name": "stdout",
     "output_type": "stream",
     "text": [
      "Unit_price :  54.751592465753426\n",
      "Quantity :  5.514970059880239\n",
      "Total :  293.9433532934132\n",
      "Date :  2019-02-13 23:51:22.191780864\n",
      "Time :  2023-11-05 15:26:52.551369728\n",
      "Payments_fee :  4.384995722840034\n",
      "Cost_price :  243.3537895637297\n",
      "Gross_income :  50.632876712328766\n",
      "Unit_cost :  45.39298545765612\n"
     ]
    }
   ],
   "source": [
    "# числовые столбцы, добавим туда же тип даты-времени:\n",
    "float_columns = [\"Unit_price\", \"Quantity\", \"Total\", \"Date\", \"Time\", \"Payments_fee\", \n",
    "                     \"Cost_price\", \"Gross_income\", \"Unit_cost\"]\n",
    "# посмотрим на средние значения по каждому числовому столбцу:\n",
    "for col in float_columns:\n",
    "  print(col, \": \", df[col].mean())"
   ]
  },
  {
   "cell_type": "code",
   "execution_count": 123,
   "metadata": {},
   "outputs": [
    {
     "name": "stdout",
     "output_type": "stream",
     "text": [
      "5\n"
     ]
    },
    {
     "name": "stderr",
     "output_type": "stream",
     "text": [
      "/tmp/ipykernel_8568/351118737.py:4: SettingWithCopyWarning: \n",
      "A value is trying to be set on a copy of a slice from a DataFrame\n",
      "\n",
      "See the caveats in the documentation: https://pandas.pydata.org/pandas-docs/stable/user_guide/indexing.html#returning-a-view-versus-a-copy\n",
      "  df[\"Quantity\"][df[\"Quantity\"] == 0] = int(df[\"Quantity\"].mean())\n",
      "/tmp/ipykernel_8568/351118737.py:7: SettingWithCopyWarning: \n",
      "A value is trying to be set on a copy of a slice from a DataFrame\n",
      "\n",
      "See the caveats in the documentation: https://pandas.pydata.org/pandas-docs/stable/user_guide/indexing.html#returning-a-view-versus-a-copy\n",
      "  df[col][df[col].isnull()] = df[col].mean()\n"
     ]
    }
   ],
   "source": [
    "# заменим пропущенные числовые признаки на средние:\n",
    "# отдельно для поля int:\n",
    "print(int(df[\"Quantity\"].mean()))\n",
    "df[\"Quantity\"][df[\"Quantity\"] == 0] = int(df[\"Quantity\"].mean())\n",
    "\n",
    "for col in numerical_columns:\n",
    "    df[col][df[col].isnull()] = df[col].mean()"
   ]
  },
  {
   "cell_type": "code",
   "execution_count": 125,
   "metadata": {},
   "outputs": [
    {
     "data": {
      "text/html": [
       "<div>\n",
       "<style scoped>\n",
       "    .dataframe tbody tr th:only-of-type {\n",
       "        vertical-align: middle;\n",
       "    }\n",
       "\n",
       "    .dataframe tbody tr th {\n",
       "        vertical-align: top;\n",
       "    }\n",
       "\n",
       "    .dataframe thead th {\n",
       "        text-align: right;\n",
       "    }\n",
       "</style>\n",
       "<table border=\"1\" class=\"dataframe\">\n",
       "  <thead>\n",
       "    <tr style=\"text-align: right;\">\n",
       "      <th></th>\n",
       "      <th>Invoice_ID</th>\n",
       "      <th>Branch</th>\n",
       "      <th>City</th>\n",
       "      <th>Customer_type</th>\n",
       "      <th>Gender</th>\n",
       "      <th>Product_line</th>\n",
       "      <th>Unit_price</th>\n",
       "      <th>Quantity</th>\n",
       "      <th>Total</th>\n",
       "      <th>Date</th>\n",
       "      <th>Time</th>\n",
       "      <th>Payment</th>\n",
       "      <th>Payments_fee</th>\n",
       "      <th>Gross_income</th>\n",
       "      <th>Cost_price</th>\n",
       "      <th>Unit_cost</th>\n",
       "    </tr>\n",
       "  </thead>\n",
       "  <tbody>\n",
       "    <tr>\n",
       "      <th>273</th>\n",
       "      <td>604-70-6480</td>\n",
       "      <td>B</td>\n",
       "      <td>Mandalay</td>\n",
       "      <td>Member</td>\n",
       "      <td>Female</td>\n",
       "      <td>Fashion accessories</td>\n",
       "      <td>54.751592</td>\n",
       "      <td>5</td>\n",
       "      <td>5.0</td>\n",
       "      <td>2019-02-13 23:51:22.191780864</td>\n",
       "      <td>2023-11-05 15:26:52.551369728</td>\n",
       "      <td>Ewallet</td>\n",
       "      <td>1.0</td>\n",
       "      <td>50.632877</td>\n",
       "      <td>5.0</td>\n",
       "      <td>0.0</td>\n",
       "    </tr>\n",
       "  </tbody>\n",
       "</table>\n",
       "</div>"
      ],
      "text/plain": [
       "      Invoice_ID Branch      City Customer_type  Gender         Product_line  \\\n",
       "273  604-70-6480      B  Mandalay        Member  Female  Fashion accessories   \n",
       "\n",
       "     Unit_price  Quantity  Total                          Date  \\\n",
       "273   54.751592         5    5.0 2019-02-13 23:51:22.191780864   \n",
       "\n",
       "                             Time  Payment  Payments_fee  Gross_income  \\\n",
       "273 2023-11-05 15:26:52.551369728  Ewallet           1.0     50.632877   \n",
       "\n",
       "     Cost_price  Unit_cost  \n",
       "273         5.0        0.0  "
      ]
     },
     "execution_count": 125,
     "metadata": {},
     "output_type": "execute_result"
    }
   ],
   "source": [
    "df[266:267]"
   ]
  },
  {
   "cell_type": "code",
   "execution_count": 126,
   "metadata": {},
   "outputs": [
    {
     "name": "stdout",
     "output_type": "stream",
     "text": [
      "<class 'pandas.core.frame.DataFrame'>\n",
      "Index: 1169 entries, 0 to 1175\n",
      "Data columns (total 16 columns):\n",
      " #   Column         Non-Null Count  Dtype         \n",
      "---  ------         --------------  -----         \n",
      " 0   Invoice_ID     1169 non-null   object        \n",
      " 1   Branch         1169 non-null   category      \n",
      " 2   City           1169 non-null   category      \n",
      " 3   Customer_type  1169 non-null   category      \n",
      " 4   Gender         1169 non-null   category      \n",
      " 5   Product_line   1169 non-null   category      \n",
      " 6   Unit_price     1169 non-null   float64       \n",
      " 7   Quantity       1169 non-null   int64         \n",
      " 8   Total          1169 non-null   float64       \n",
      " 9   Date           1169 non-null   datetime64[ns]\n",
      " 10  Time           1169 non-null   datetime64[ns]\n",
      " 11  Payment        1169 non-null   category      \n",
      " 12  Payments_fee   1169 non-null   float64       \n",
      " 13  Gross_income   1169 non-null   float64       \n",
      " 14  Cost_price     1169 non-null   float64       \n",
      " 15  Unit_cost      1169 non-null   float64       \n",
      "dtypes: category(6), datetime64[ns](2), float64(6), int64(1), object(1)\n",
      "memory usage: 108.3+ KB\n"
     ]
    }
   ],
   "source": [
    "df.info()"
   ]
  },
  {
   "cell_type": "code",
   "execution_count": 128,
   "metadata": {},
   "outputs": [],
   "source": [
    "df.to_csv(\"clear_data.csv\")"
   ]
  },
  {
   "cell_type": "code",
   "execution_count": 131,
   "metadata": {},
   "outputs": [
    {
     "data": {
      "text/html": [
       "<div>\n",
       "<style scoped>\n",
       "    .dataframe tbody tr th:only-of-type {\n",
       "        vertical-align: middle;\n",
       "    }\n",
       "\n",
       "    .dataframe tbody tr th {\n",
       "        vertical-align: top;\n",
       "    }\n",
       "\n",
       "    .dataframe thead th {\n",
       "        text-align: right;\n",
       "    }\n",
       "</style>\n",
       "<table border=\"1\" class=\"dataframe\">\n",
       "  <thead>\n",
       "    <tr style=\"text-align: right;\">\n",
       "      <th></th>\n",
       "      <th>Unnamed: 0</th>\n",
       "      <th>Invoice_ID</th>\n",
       "      <th>Branch</th>\n",
       "      <th>City</th>\n",
       "      <th>Customer_type</th>\n",
       "      <th>Gender</th>\n",
       "      <th>Product_line</th>\n",
       "      <th>Unit_price</th>\n",
       "      <th>Quantity</th>\n",
       "      <th>Total</th>\n",
       "      <th>Date</th>\n",
       "      <th>Time</th>\n",
       "      <th>Payment</th>\n",
       "      <th>Payments_fee</th>\n",
       "      <th>Gross_income</th>\n",
       "      <th>Cost_price</th>\n",
       "      <th>Unit_cost</th>\n",
       "    </tr>\n",
       "  </thead>\n",
       "  <tbody>\n",
       "    <tr>\n",
       "      <th>0</th>\n",
       "      <td>0</td>\n",
       "      <td>765-26-6951</td>\n",
       "      <td>A</td>\n",
       "      <td>Yangon</td>\n",
       "      <td>Normal</td>\n",
       "      <td>Male</td>\n",
       "      <td>Sports and travel</td>\n",
       "      <td>76.24</td>\n",
       "      <td>6</td>\n",
       "      <td>457.44</td>\n",
       "      <td>2019-01-01 00:00:00.000000000</td>\n",
       "      <td>2023-11-05 10:39:00.000000000</td>\n",
       "      <td>Credit card</td>\n",
       "      <td>13.72</td>\n",
       "      <td>68.62</td>\n",
       "      <td>388.82</td>\n",
       "      <td>64.80</td>\n",
       "    </tr>\n",
       "    <tr>\n",
       "      <th>1</th>\n",
       "      <td>1</td>\n",
       "      <td>530-90-9855</td>\n",
       "      <td>A</td>\n",
       "      <td>Yangon</td>\n",
       "      <td>Member</td>\n",
       "      <td>Male</td>\n",
       "      <td>Home and lifestyle</td>\n",
       "      <td>49.97</td>\n",
       "      <td>8</td>\n",
       "      <td>399.76</td>\n",
       "      <td>2019-01-01 00:00:00.000000000</td>\n",
       "      <td>2023-11-05 14:47:00.000000000</td>\n",
       "      <td>Cash</td>\n",
       "      <td>0.00</td>\n",
       "      <td>71.96</td>\n",
       "      <td>327.80</td>\n",
       "      <td>40.98</td>\n",
       "    </tr>\n",
       "    <tr>\n",
       "      <th>2</th>\n",
       "      <td>2</td>\n",
       "      <td>891-01-7034</td>\n",
       "      <td>B</td>\n",
       "      <td>Mandalay</td>\n",
       "      <td>Normal</td>\n",
       "      <td>Male</td>\n",
       "      <td>Electronic accessories</td>\n",
       "      <td>78.45</td>\n",
       "      <td>6</td>\n",
       "      <td>470.67</td>\n",
       "      <td>2019-01-01 00:00:00.000000000</td>\n",
       "      <td>2023-11-05 19:07:00.000000000</td>\n",
       "      <td>Cash</td>\n",
       "      <td>0.00</td>\n",
       "      <td>70.60</td>\n",
       "      <td>400.07</td>\n",
       "      <td>66.68</td>\n",
       "    </tr>\n",
       "    <tr>\n",
       "      <th>3</th>\n",
       "      <td>3</td>\n",
       "      <td>493-65-6248</td>\n",
       "      <td>C</td>\n",
       "      <td>Naypyitaw</td>\n",
       "      <td>Member</td>\n",
       "      <td>Female</td>\n",
       "      <td>Sports and travel</td>\n",
       "      <td>38.83</td>\n",
       "      <td>10</td>\n",
       "      <td>388.29</td>\n",
       "      <td>2019-01-01 00:00:00.000000000</td>\n",
       "      <td>2023-11-05 19:48:00.000000000</td>\n",
       "      <td>Credit card</td>\n",
       "      <td>11.65</td>\n",
       "      <td>58.24</td>\n",
       "      <td>330.05</td>\n",
       "      <td>33.01</td>\n",
       "    </tr>\n",
       "    <tr>\n",
       "      <th>4</th>\n",
       "      <td>4</td>\n",
       "      <td>556-97-7101</td>\n",
       "      <td>C</td>\n",
       "      <td>Naypyitaw</td>\n",
       "      <td>Normal</td>\n",
       "      <td>Female</td>\n",
       "      <td>Electronic accessories</td>\n",
       "      <td>66.38</td>\n",
       "      <td>2</td>\n",
       "      <td>132.76</td>\n",
       "      <td>2019-01-01 00:00:00.000000000</td>\n",
       "      <td>2023-11-05 15:51:00.000000000</td>\n",
       "      <td>Cash</td>\n",
       "      <td>0.00</td>\n",
       "      <td>19.91</td>\n",
       "      <td>112.85</td>\n",
       "      <td>56.43</td>\n",
       "    </tr>\n",
       "    <tr>\n",
       "      <th>...</th>\n",
       "      <td>...</td>\n",
       "      <td>...</td>\n",
       "      <td>...</td>\n",
       "      <td>...</td>\n",
       "      <td>...</td>\n",
       "      <td>...</td>\n",
       "      <td>...</td>\n",
       "      <td>...</td>\n",
       "      <td>...</td>\n",
       "      <td>...</td>\n",
       "      <td>...</td>\n",
       "      <td>...</td>\n",
       "      <td>...</td>\n",
       "      <td>...</td>\n",
       "      <td>...</td>\n",
       "      <td>...</td>\n",
       "      <td>...</td>\n",
       "    </tr>\n",
       "    <tr>\n",
       "      <th>1164</th>\n",
       "      <td>1171</td>\n",
       "      <td>291-55-6563</td>\n",
       "      <td>A</td>\n",
       "      <td>Yangon</td>\n",
       "      <td>Member</td>\n",
       "      <td>Female</td>\n",
       "      <td>Home and lifestyle</td>\n",
       "      <td>36.14</td>\n",
       "      <td>6</td>\n",
       "      <td>216.85</td>\n",
       "      <td>2019-03-30 00:00:00.000000000</td>\n",
       "      <td>2023-11-05 12:45:00.000000000</td>\n",
       "      <td>Ewallet</td>\n",
       "      <td>3.25</td>\n",
       "      <td>39.03</td>\n",
       "      <td>177.82</td>\n",
       "      <td>29.64</td>\n",
       "    </tr>\n",
       "    <tr>\n",
       "      <th>1165</th>\n",
       "      <td>1172</td>\n",
       "      <td>361-85-2571</td>\n",
       "      <td>A</td>\n",
       "      <td>Yangon</td>\n",
       "      <td>Normal</td>\n",
       "      <td>Female</td>\n",
       "      <td>Sports and travel</td>\n",
       "      <td>93.95</td>\n",
       "      <td>5</td>\n",
       "      <td>469.77</td>\n",
       "      <td>2019-03-30 00:00:00.000000000</td>\n",
       "      <td>2023-11-05 10:18:00.000000000</td>\n",
       "      <td>Cash</td>\n",
       "      <td>0.00</td>\n",
       "      <td>70.47</td>\n",
       "      <td>399.30</td>\n",
       "      <td>79.86</td>\n",
       "    </tr>\n",
       "    <tr>\n",
       "      <th>1166</th>\n",
       "      <td>1173</td>\n",
       "      <td>364-34-2972</td>\n",
       "      <td>C</td>\n",
       "      <td>Naypyitaw</td>\n",
       "      <td>Member</td>\n",
       "      <td>Male</td>\n",
       "      <td>Electronic accessories</td>\n",
       "      <td>101.66</td>\n",
       "      <td>3</td>\n",
       "      <td>304.98</td>\n",
       "      <td>2019-03-30 00:00:00.000000000</td>\n",
       "      <td>2023-11-05 20:37:00.000000000</td>\n",
       "      <td>Cash</td>\n",
       "      <td>0.00</td>\n",
       "      <td>45.75</td>\n",
       "      <td>259.23</td>\n",
       "      <td>86.41</td>\n",
       "    </tr>\n",
       "    <tr>\n",
       "      <th>1167</th>\n",
       "      <td>1174</td>\n",
       "      <td>115-38-7382</td>\n",
       "      <td>C</td>\n",
       "      <td>Naypyitaw</td>\n",
       "      <td>Member</td>\n",
       "      <td>Female</td>\n",
       "      <td>Fashion accessories</td>\n",
       "      <td>4.64</td>\n",
       "      <td>8</td>\n",
       "      <td>37.12</td>\n",
       "      <td>2019-03-30 00:00:00.000000000</td>\n",
       "      <td>2023-11-05 12:51:00.000000000</td>\n",
       "      <td>Credit card</td>\n",
       "      <td>1.11</td>\n",
       "      <td>9.28</td>\n",
       "      <td>27.84</td>\n",
       "      <td>3.48</td>\n",
       "    </tr>\n",
       "    <tr>\n",
       "      <th>1168</th>\n",
       "      <td>1175</td>\n",
       "      <td>115-38-7382</td>\n",
       "      <td>C</td>\n",
       "      <td>Naypyitaw</td>\n",
       "      <td>Member</td>\n",
       "      <td>Female</td>\n",
       "      <td>Fashion accessories</td>\n",
       "      <td>4.97</td>\n",
       "      <td>8</td>\n",
       "      <td>39.75</td>\n",
       "      <td>2019-03-30 00:00:00.000000000</td>\n",
       "      <td>2023-11-05 12:51:00.000000000</td>\n",
       "      <td>Credit card</td>\n",
       "      <td>1.19</td>\n",
       "      <td>9.94</td>\n",
       "      <td>29.81</td>\n",
       "      <td>3.73</td>\n",
       "    </tr>\n",
       "  </tbody>\n",
       "</table>\n",
       "<p>1169 rows × 17 columns</p>\n",
       "</div>"
      ],
      "text/plain": [
       "      Unnamed: 0   Invoice_ID Branch       City Customer_type  Gender  \\\n",
       "0              0  765-26-6951      A     Yangon        Normal    Male   \n",
       "1              1  530-90-9855      A     Yangon        Member    Male   \n",
       "2              2  891-01-7034      B   Mandalay        Normal    Male   \n",
       "3              3  493-65-6248      C  Naypyitaw        Member  Female   \n",
       "4              4  556-97-7101      C  Naypyitaw        Normal  Female   \n",
       "...          ...          ...    ...        ...           ...     ...   \n",
       "1164        1171  291-55-6563      A     Yangon        Member  Female   \n",
       "1165        1172  361-85-2571      A     Yangon        Normal  Female   \n",
       "1166        1173  364-34-2972      C  Naypyitaw        Member    Male   \n",
       "1167        1174  115-38-7382      C  Naypyitaw        Member  Female   \n",
       "1168        1175  115-38-7382      C  Naypyitaw        Member  Female   \n",
       "\n",
       "                Product_line  Unit_price  Quantity   Total  \\\n",
       "0          Sports and travel       76.24         6  457.44   \n",
       "1         Home and lifestyle       49.97         8  399.76   \n",
       "2     Electronic accessories       78.45         6  470.67   \n",
       "3          Sports and travel       38.83        10  388.29   \n",
       "4     Electronic accessories       66.38         2  132.76   \n",
       "...                      ...         ...       ...     ...   \n",
       "1164      Home and lifestyle       36.14         6  216.85   \n",
       "1165       Sports and travel       93.95         5  469.77   \n",
       "1166  Electronic accessories      101.66         3  304.98   \n",
       "1167     Fashion accessories        4.64         8   37.12   \n",
       "1168     Fashion accessories        4.97         8   39.75   \n",
       "\n",
       "                               Date                           Time  \\\n",
       "0     2019-01-01 00:00:00.000000000  2023-11-05 10:39:00.000000000   \n",
       "1     2019-01-01 00:00:00.000000000  2023-11-05 14:47:00.000000000   \n",
       "2     2019-01-01 00:00:00.000000000  2023-11-05 19:07:00.000000000   \n",
       "3     2019-01-01 00:00:00.000000000  2023-11-05 19:48:00.000000000   \n",
       "4     2019-01-01 00:00:00.000000000  2023-11-05 15:51:00.000000000   \n",
       "...                             ...                            ...   \n",
       "1164  2019-03-30 00:00:00.000000000  2023-11-05 12:45:00.000000000   \n",
       "1165  2019-03-30 00:00:00.000000000  2023-11-05 10:18:00.000000000   \n",
       "1166  2019-03-30 00:00:00.000000000  2023-11-05 20:37:00.000000000   \n",
       "1167  2019-03-30 00:00:00.000000000  2023-11-05 12:51:00.000000000   \n",
       "1168  2019-03-30 00:00:00.000000000  2023-11-05 12:51:00.000000000   \n",
       "\n",
       "          Payment  Payments_fee  Gross_income  Cost_price  Unit_cost  \n",
       "0     Credit card         13.72         68.62      388.82      64.80  \n",
       "1            Cash          0.00         71.96      327.80      40.98  \n",
       "2            Cash          0.00         70.60      400.07      66.68  \n",
       "3     Credit card         11.65         58.24      330.05      33.01  \n",
       "4            Cash          0.00         19.91      112.85      56.43  \n",
       "...           ...           ...           ...         ...        ...  \n",
       "1164      Ewallet          3.25         39.03      177.82      29.64  \n",
       "1165         Cash          0.00         70.47      399.30      79.86  \n",
       "1166         Cash          0.00         45.75      259.23      86.41  \n",
       "1167  Credit card          1.11          9.28       27.84       3.48  \n",
       "1168  Credit card          1.19          9.94       29.81       3.73  \n",
       "\n",
       "[1169 rows x 17 columns]"
      ]
     },
     "execution_count": 131,
     "metadata": {},
     "output_type": "execute_result"
    }
   ],
   "source": [
    "df = pd.read_csv(\"clear_data.csv\")\n",
    "df"
   ]
  },
  {
   "cell_type": "markdown",
   "metadata": {},
   "source": [
    "**3 Бизнес-анализ данных с помощью библиотеки pandas**"
   ]
  },
  {
   "cell_type": "markdown",
   "metadata": {},
   "source": [
    "3.1 Сравнение выручки и прибыли по дивизионам"
   ]
  },
  {
   "cell_type": "code",
   "execution_count": 134,
   "metadata": {
    "scrolled": true
   },
   "outputs": [
    {
     "data": {
      "text/html": [
       "<div>\n",
       "<style scoped>\n",
       "    .dataframe tbody tr th:only-of-type {\n",
       "        vertical-align: middle;\n",
       "    }\n",
       "\n",
       "    .dataframe tbody tr th {\n",
       "        vertical-align: top;\n",
       "    }\n",
       "\n",
       "    .dataframe thead th {\n",
       "        text-align: right;\n",
       "    }\n",
       "</style>\n",
       "<table border=\"1\" class=\"dataframe\">\n",
       "  <thead>\n",
       "    <tr style=\"text-align: right;\">\n",
       "      <th></th>\n",
       "      <th>Total</th>\n",
       "      <th>Gross_income</th>\n",
       "    </tr>\n",
       "    <tr>\n",
       "      <th>Branch</th>\n",
       "      <th></th>\n",
       "      <th></th>\n",
       "    </tr>\n",
       "  </thead>\n",
       "  <tbody>\n",
       "    <tr>\n",
       "      <th>A</th>\n",
       "      <td>112271.85</td>\n",
       "      <td>19151.300000</td>\n",
       "    </tr>\n",
       "    <tr>\n",
       "      <th>B</th>\n",
       "      <td>112825.86</td>\n",
       "      <td>19712.702877</td>\n",
       "    </tr>\n",
       "    <tr>\n",
       "      <th>C</th>\n",
       "      <td>118522.07</td>\n",
       "      <td>20325.830000</td>\n",
       "    </tr>\n",
       "  </tbody>\n",
       "</table>\n",
       "</div>"
      ],
      "text/plain": [
       "            Total  Gross_income\n",
       "Branch                         \n",
       "A       112271.85  19151.300000\n",
       "B       112825.86  19712.702877\n",
       "C       118522.07  20325.830000"
      ]
     },
     "execution_count": 134,
     "metadata": {},
     "output_type": "execute_result"
    }
   ],
   "source": [
    "df[[\"Branch\", \"Total\", \"Gross_income\"]].groupby(\"Branch\").sum()"
   ]
  },
  {
   "cell_type": "markdown",
   "metadata": {},
   "source": [
    "из таблицы видно, что прибыль и выручка дивизионов примерно одинаковая (нет дивизиона, чья выручка или прибыль в разы превышает остальные)"
   ]
  },
  {
   "cell_type": "markdown",
   "metadata": {},
   "source": [
    "3.2 сравнение количества продаж и выручки"
   ]
  },
  {
   "cell_type": "code",
   "execution_count": 136,
   "metadata": {},
   "outputs": [
    {
     "data": {
      "text/html": [
       "<div>\n",
       "<style scoped>\n",
       "    .dataframe tbody tr th:only-of-type {\n",
       "        vertical-align: middle;\n",
       "    }\n",
       "\n",
       "    .dataframe tbody tr th {\n",
       "        vertical-align: top;\n",
       "    }\n",
       "\n",
       "    .dataframe thead th {\n",
       "        text-align: right;\n",
       "    }\n",
       "</style>\n",
       "<table border=\"1\" class=\"dataframe\">\n",
       "  <thead>\n",
       "    <tr style=\"text-align: right;\">\n",
       "      <th></th>\n",
       "      <th>Total</th>\n",
       "      <th>Quantity</th>\n",
       "    </tr>\n",
       "    <tr>\n",
       "      <th>Product_line</th>\n",
       "      <th></th>\n",
       "      <th></th>\n",
       "    </tr>\n",
       "  </thead>\n",
       "  <tbody>\n",
       "    <tr>\n",
       "      <th>Clothes and accessories</th>\n",
       "      <td>18188.40</td>\n",
       "      <td>829</td>\n",
       "    </tr>\n",
       "    <tr>\n",
       "      <th>Electronic accessories</th>\n",
       "      <td>54337.64</td>\n",
       "      <td>971</td>\n",
       "    </tr>\n",
       "    <tr>\n",
       "      <th>Fashion accessories</th>\n",
       "      <td>56769.98</td>\n",
       "      <td>1015</td>\n",
       "    </tr>\n",
       "    <tr>\n",
       "      <th>Food and beverages</th>\n",
       "      <td>56144.96</td>\n",
       "      <td>952</td>\n",
       "    </tr>\n",
       "    <tr>\n",
       "      <th>Health and beauty</th>\n",
       "      <td>49193.84</td>\n",
       "      <td>854</td>\n",
       "    </tr>\n",
       "    <tr>\n",
       "      <th>Home and lifestyle</th>\n",
       "      <td>53861.96</td>\n",
       "      <td>911</td>\n",
       "    </tr>\n",
       "    <tr>\n",
       "      <th>Sports and travel</th>\n",
       "      <td>55123.00</td>\n",
       "      <td>920</td>\n",
       "    </tr>\n",
       "  </tbody>\n",
       "</table>\n",
       "</div>"
      ],
      "text/plain": [
       "                            Total  Quantity\n",
       "Product_line                               \n",
       "Clothes and accessories  18188.40       829\n",
       "Electronic accessories   54337.64       971\n",
       "Fashion accessories      56769.98      1015\n",
       "Food and beverages       56144.96       952\n",
       "Health and beauty        49193.84       854\n",
       "Home and lifestyle       53861.96       911\n",
       "Sports and travel        55123.00       920"
      ]
     },
     "execution_count": 136,
     "metadata": {},
     "output_type": "execute_result"
    }
   ],
   "source": [
    "df[[\"Product_line\", \"Total\", \"Quantity\"]].groupby(\"Product_line\").sum()"
   ]
  },
  {
   "cell_type": "markdown",
   "metadata": {},
   "source": [
    "из таблицы видно, что все категории, кроме \"Clothes and accessories\" имеют примерно одинаковую выручку и количество продаж. \"Clothes and accessories\" уступает остальным более чем в 2 раза по выручке при соизмеримом количестве проданного товара. Можно сделать вывод, что каждая единица товара этой категории существенно дешевле, чем стоимость единицы  товара других категорий"
   ]
  },
  {
   "cell_type": "markdown",
   "metadata": {},
   "source": [
    "3.3 сравнение продаж и маржинальной прибыли от продаж женщинам и мужчинам"
   ]
  },
  {
   "cell_type": "code",
   "execution_count": 137,
   "metadata": {},
   "outputs": [
    {
     "data": {
      "text/html": [
       "<div>\n",
       "<style scoped>\n",
       "    .dataframe tbody tr th:only-of-type {\n",
       "        vertical-align: middle;\n",
       "    }\n",
       "\n",
       "    .dataframe tbody tr th {\n",
       "        vertical-align: top;\n",
       "    }\n",
       "\n",
       "    .dataframe thead th {\n",
       "        text-align: right;\n",
       "    }\n",
       "</style>\n",
       "<table border=\"1\" class=\"dataframe\">\n",
       "  <thead>\n",
       "    <tr style=\"text-align: right;\">\n",
       "      <th></th>\n",
       "      <th>Total</th>\n",
       "      <th>Gross_income</th>\n",
       "    </tr>\n",
       "    <tr>\n",
       "      <th>Gender</th>\n",
       "      <th></th>\n",
       "      <th></th>\n",
       "    </tr>\n",
       "  </thead>\n",
       "  <tbody>\n",
       "    <tr>\n",
       "      <th>Female</th>\n",
       "      <td>193316.25</td>\n",
       "      <td>33684.842877</td>\n",
       "    </tr>\n",
       "    <tr>\n",
       "      <th>Male</th>\n",
       "      <td>150303.53</td>\n",
       "      <td>25504.990000</td>\n",
       "    </tr>\n",
       "  </tbody>\n",
       "</table>\n",
       "</div>"
      ],
      "text/plain": [
       "            Total  Gross_income\n",
       "Gender                         \n",
       "Female  193316.25  33684.842877\n",
       "Male    150303.53  25504.990000"
      ]
     },
     "execution_count": 137,
     "metadata": {},
     "output_type": "execute_result"
    }
   ],
   "source": [
    "df[[\"Gender\", \"Total\", \"Gross_income\"]].groupby(\"Gender\").sum()"
   ]
  },
  {
   "cell_type": "code",
   "execution_count": null,
   "metadata": {},
   "outputs": [],
   "source": []
  }
 ],
 "metadata": {
  "colab": {
   "authorship_tag": "ABX9TyMwJyZKMshEhMeq9DDpNgmg",
   "mount_file_id": "1EAQIw5E8_T49Z8heNkIBm6MsMOsyppbE",
   "provenance": []
  },
  "kernelspec": {
   "display_name": "Python 3 (ipykernel)",
   "language": "python",
   "name": "python3"
  },
  "language_info": {
   "codemirror_mode": {
    "name": "ipython",
    "version": 3
   },
   "file_extension": ".py",
   "mimetype": "text/x-python",
   "name": "python",
   "nbconvert_exporter": "python",
   "pygments_lexer": "ipython3",
   "version": "3.11.5"
  }
 },
 "nbformat": 4,
 "nbformat_minor": 1
}
