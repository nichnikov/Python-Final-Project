{
 "cells": [
  {
   "cell_type": "markdown",
   "metadata": {},
   "source": [
    "https://www.sqlitetutorial.net/sqlite-python/creating-database/#:~:text=When%20you%20connect%20to%20an,function%20of%20the%20sqlite3%20module."
   ]
  },
  {
   "cell_type": "code",
   "execution_count": 1,
   "metadata": {},
   "outputs": [
    {
     "name": "stdout",
     "output_type": "stream",
     "text": [
      "2.6.0\n"
     ]
    }
   ],
   "source": [
    "# Создадим Базу данных sales.db\n",
    "import sqlite3\n",
    "from sqlite3 import Error\n",
    "\n",
    "def create_connection(db_file):\n",
    "    \"\"\" create a database connection to a SQLite database \"\"\"\n",
    "    conn = None\n",
    "    try:\n",
    "        conn = sqlite3.connect(db_file)\n",
    "        print(sqlite3.version)\n",
    "    except Error as e:\n",
    "        print(e)\n",
    "    finally:\n",
    "        if conn:\n",
    "            conn.close()\n",
    "\n",
    "\n",
    "if __name__ == '__main__':\n",
    "    import os\n",
    "    create_connection(os.path.join(\"sales.db\"))"
   ]
  },
  {
   "cell_type": "markdown",
   "metadata": {},
   "source": [
    "**Создание таблиц справочников и основной таблицы**\n",
    "\n",
    "https://habr.com/ru/articles/754400/"
   ]
  },
  {
   "cell_type": "code",
   "execution_count": 2,
   "metadata": {},
   "outputs": [
    {
     "data": {
      "text/plain": [
       "<sqlite3.Cursor at 0x7f5f84b9ca40>"
      ]
     },
     "execution_count": 2,
     "metadata": {},
     "output_type": "execute_result"
    }
   ],
   "source": [
    "# Устанавливаем соединение с базой данных\n",
    "connection = sqlite3.connect(os.path.join(\"sales.db\"))\n",
    "cursor = connection.cursor()\n",
    "\n",
    "# Создаем таблицу Branch\n",
    "cursor.execute('''\n",
    "CREATE TABLE IF NOT EXISTS Branch(\n",
    "Branch TEXT PRIMARY KEY\n",
    ")\n",
    "''')\n",
    "\n",
    "# Создаем таблицу City\n",
    "cursor.execute('''\n",
    "CREATE TABLE IF NOT EXISTS City(\n",
    "City TEXT PRIMARY KEY\n",
    ")\n",
    "''')\n",
    "\n",
    "# Создаем таблицу Product_Line\n",
    "cursor.execute('''\n",
    "CREATE TABLE IF NOT EXISTS Product_line(\n",
    "Product_Line TEXT PRIMARY KEY\n",
    ")\n",
    "''')\n",
    "\n",
    "# Создаем таблицу Customer_Type\n",
    "cursor.execute('''\n",
    "CREATE TABLE IF NOT EXISTS Customer_type(\n",
    "Customer_Type TEXT PRIMARY KEY\n",
    ")\n",
    "''')\n",
    "\n",
    "# Создаем таблицу Gender\n",
    "cursor.execute('''\n",
    "CREATE TABLE IF NOT EXISTS Gender(\n",
    "Gender TEXT PRIMARY KEY\n",
    ")\n",
    "''')\n",
    "\n",
    "# Создаем таблицу Payment\n",
    "cursor.execute('''\n",
    "CREATE TABLE IF NOT EXISTS Payment(\n",
    "Payment TEXT PRIMARY KEY\n",
    ")\n",
    "''')\n",
    "\n",
    "\n",
    "# Создадим таблицу Sales\n",
    "cursor.execute('''\n",
    "CREATE TABLE IF NOT EXISTS Sales(\n",
    "Invoice_ID TEXT,\n",
    "Branch TEXT, \n",
    "City TEXT,\n",
    "Customer_Type TEXT,\n",
    "Gender TEXT,\n",
    "Product_Line TEXT,\n",
    "Unit_Price REAL,\n",
    "Quantity INTEGER,\n",
    "Total REAL,\n",
    "Date TEXT,\n",
    "Time TEXT,\n",
    "Payment REAL,\n",
    "Payments_fee REAL,\n",
    "Gross_income REAL,\n",
    "Cost_price REAL,\n",
    "Unit_cost REAL\n",
    ")\n",
    "''')"
   ]
  },
  {
   "cell_type": "markdown",
   "metadata": {},
   "source": [
    "Заполнение справочников и БД"
   ]
  },
  {
   "cell_type": "code",
   "execution_count": 9,
   "metadata": {},
   "outputs": [
    {
     "name": "stdout",
     "output_type": "stream",
     "text": [
      "Collecting pandas\n",
      "  Using cached pandas-2.1.3-cp310-cp310-manylinux_2_17_x86_64.manylinux2014_x86_64.whl.metadata (18 kB)\n",
      "Collecting numpy<2,>=1.22.4 (from pandas)\n",
      "  Using cached numpy-1.26.2-cp310-cp310-manylinux_2_17_x86_64.manylinux2014_x86_64.whl.metadata (61 kB)\n",
      "Requirement already satisfied: python-dateutil>=2.8.2 in ./.venv/lib/python3.10/site-packages (from pandas) (2.8.2)\n",
      "Collecting pytz>=2020.1 (from pandas)\n",
      "  Using cached pytz-2023.3.post1-py2.py3-none-any.whl.metadata (22 kB)\n",
      "Collecting tzdata>=2022.1 (from pandas)\n",
      "  Using cached tzdata-2023.3-py2.py3-none-any.whl (341 kB)\n",
      "Requirement already satisfied: six>=1.5 in ./.venv/lib/python3.10/site-packages (from python-dateutil>=2.8.2->pandas) (1.16.0)\n",
      "Using cached pandas-2.1.3-cp310-cp310-manylinux_2_17_x86_64.manylinux2014_x86_64.whl (12.3 MB)\n",
      "Using cached numpy-1.26.2-cp310-cp310-manylinux_2_17_x86_64.manylinux2014_x86_64.whl (18.2 MB)\n",
      "Using cached pytz-2023.3.post1-py2.py3-none-any.whl (502 kB)\n",
      "Installing collected packages: pytz, tzdata, numpy, pandas\n",
      "Successfully installed numpy-1.26.2 pandas-2.1.3 pytz-2023.3.post1 tzdata-2023.3\n"
     ]
    }
   ],
   "source": [
    "!pip install pandas"
   ]
  },
  {
   "cell_type": "code",
   "execution_count": 3,
   "metadata": {},
   "outputs": [
    {
     "data": {
      "text/html": [
       "<div>\n",
       "<style scoped>\n",
       "    .dataframe tbody tr th:only-of-type {\n",
       "        vertical-align: middle;\n",
       "    }\n",
       "\n",
       "    .dataframe tbody tr th {\n",
       "        vertical-align: top;\n",
       "    }\n",
       "\n",
       "    .dataframe thead th {\n",
       "        text-align: right;\n",
       "    }\n",
       "</style>\n",
       "<table border=\"1\" class=\"dataframe\">\n",
       "  <thead>\n",
       "    <tr style=\"text-align: right;\">\n",
       "      <th></th>\n",
       "      <th>Invoice_ID</th>\n",
       "      <th>Branch</th>\n",
       "      <th>City</th>\n",
       "      <th>Customer_type</th>\n",
       "      <th>Gender</th>\n",
       "      <th>Product_line</th>\n",
       "      <th>Unit_price</th>\n",
       "      <th>Quantity</th>\n",
       "      <th>Total</th>\n",
       "      <th>Date</th>\n",
       "      <th>Time</th>\n",
       "      <th>Payment</th>\n",
       "      <th>Payments_fee</th>\n",
       "      <th>Gross_income</th>\n",
       "      <th>Cost_price</th>\n",
       "      <th>Unit_cost</th>\n",
       "    </tr>\n",
       "  </thead>\n",
       "  <tbody>\n",
       "    <tr>\n",
       "      <th>0</th>\n",
       "      <td>765-26-6951</td>\n",
       "      <td>A</td>\n",
       "      <td>Yangon</td>\n",
       "      <td>Normal</td>\n",
       "      <td>Male</td>\n",
       "      <td>Sports and travel</td>\n",
       "      <td>76.24</td>\n",
       "      <td>6</td>\n",
       "      <td>457.44</td>\n",
       "      <td>2019-01-01 00:00:00.000000000</td>\n",
       "      <td>2023-11-05 10:39:00.000000000</td>\n",
       "      <td>Credit card</td>\n",
       "      <td>13.72</td>\n",
       "      <td>68.62</td>\n",
       "      <td>388.82</td>\n",
       "      <td>64.80</td>\n",
       "    </tr>\n",
       "    <tr>\n",
       "      <th>1</th>\n",
       "      <td>530-90-9855</td>\n",
       "      <td>A</td>\n",
       "      <td>Yangon</td>\n",
       "      <td>Member</td>\n",
       "      <td>Male</td>\n",
       "      <td>Home and lifestyle</td>\n",
       "      <td>49.97</td>\n",
       "      <td>8</td>\n",
       "      <td>399.76</td>\n",
       "      <td>2019-01-01 00:00:00.000000000</td>\n",
       "      <td>2023-11-05 14:47:00.000000000</td>\n",
       "      <td>Cash</td>\n",
       "      <td>0.00</td>\n",
       "      <td>71.96</td>\n",
       "      <td>327.80</td>\n",
       "      <td>40.98</td>\n",
       "    </tr>\n",
       "    <tr>\n",
       "      <th>2</th>\n",
       "      <td>891-01-7034</td>\n",
       "      <td>B</td>\n",
       "      <td>Mandalay</td>\n",
       "      <td>Normal</td>\n",
       "      <td>Male</td>\n",
       "      <td>Electronic accessories</td>\n",
       "      <td>78.45</td>\n",
       "      <td>6</td>\n",
       "      <td>470.67</td>\n",
       "      <td>2019-01-01 00:00:00.000000000</td>\n",
       "      <td>2023-11-05 19:07:00.000000000</td>\n",
       "      <td>Cash</td>\n",
       "      <td>0.00</td>\n",
       "      <td>70.60</td>\n",
       "      <td>400.07</td>\n",
       "      <td>66.68</td>\n",
       "    </tr>\n",
       "    <tr>\n",
       "      <th>3</th>\n",
       "      <td>493-65-6248</td>\n",
       "      <td>C</td>\n",
       "      <td>Naypyitaw</td>\n",
       "      <td>Member</td>\n",
       "      <td>Female</td>\n",
       "      <td>Sports and travel</td>\n",
       "      <td>38.83</td>\n",
       "      <td>10</td>\n",
       "      <td>388.29</td>\n",
       "      <td>2019-01-01 00:00:00.000000000</td>\n",
       "      <td>2023-11-05 19:48:00.000000000</td>\n",
       "      <td>Credit card</td>\n",
       "      <td>11.65</td>\n",
       "      <td>58.24</td>\n",
       "      <td>330.05</td>\n",
       "      <td>33.01</td>\n",
       "    </tr>\n",
       "    <tr>\n",
       "      <th>4</th>\n",
       "      <td>556-97-7101</td>\n",
       "      <td>C</td>\n",
       "      <td>Naypyitaw</td>\n",
       "      <td>Normal</td>\n",
       "      <td>Female</td>\n",
       "      <td>Electronic accessories</td>\n",
       "      <td>66.38</td>\n",
       "      <td>2</td>\n",
       "      <td>132.76</td>\n",
       "      <td>2019-01-01 00:00:00.000000000</td>\n",
       "      <td>2023-11-05 15:51:00.000000000</td>\n",
       "      <td>Cash</td>\n",
       "      <td>0.00</td>\n",
       "      <td>19.91</td>\n",
       "      <td>112.85</td>\n",
       "      <td>56.43</td>\n",
       "    </tr>\n",
       "    <tr>\n",
       "      <th>...</th>\n",
       "      <td>...</td>\n",
       "      <td>...</td>\n",
       "      <td>...</td>\n",
       "      <td>...</td>\n",
       "      <td>...</td>\n",
       "      <td>...</td>\n",
       "      <td>...</td>\n",
       "      <td>...</td>\n",
       "      <td>...</td>\n",
       "      <td>...</td>\n",
       "      <td>...</td>\n",
       "      <td>...</td>\n",
       "      <td>...</td>\n",
       "      <td>...</td>\n",
       "      <td>...</td>\n",
       "      <td>...</td>\n",
       "    </tr>\n",
       "    <tr>\n",
       "      <th>1164</th>\n",
       "      <td>291-55-6563</td>\n",
       "      <td>A</td>\n",
       "      <td>Yangon</td>\n",
       "      <td>Member</td>\n",
       "      <td>Female</td>\n",
       "      <td>Home and lifestyle</td>\n",
       "      <td>36.14</td>\n",
       "      <td>6</td>\n",
       "      <td>216.85</td>\n",
       "      <td>2019-03-30 00:00:00.000000000</td>\n",
       "      <td>2023-11-05 12:45:00.000000000</td>\n",
       "      <td>Ewallet</td>\n",
       "      <td>3.25</td>\n",
       "      <td>39.03</td>\n",
       "      <td>177.82</td>\n",
       "      <td>29.64</td>\n",
       "    </tr>\n",
       "    <tr>\n",
       "      <th>1165</th>\n",
       "      <td>361-85-2571</td>\n",
       "      <td>A</td>\n",
       "      <td>Yangon</td>\n",
       "      <td>Normal</td>\n",
       "      <td>Female</td>\n",
       "      <td>Sports and travel</td>\n",
       "      <td>93.95</td>\n",
       "      <td>5</td>\n",
       "      <td>469.77</td>\n",
       "      <td>2019-03-30 00:00:00.000000000</td>\n",
       "      <td>2023-11-05 10:18:00.000000000</td>\n",
       "      <td>Cash</td>\n",
       "      <td>0.00</td>\n",
       "      <td>70.47</td>\n",
       "      <td>399.30</td>\n",
       "      <td>79.86</td>\n",
       "    </tr>\n",
       "    <tr>\n",
       "      <th>1166</th>\n",
       "      <td>364-34-2972</td>\n",
       "      <td>C</td>\n",
       "      <td>Naypyitaw</td>\n",
       "      <td>Member</td>\n",
       "      <td>Male</td>\n",
       "      <td>Electronic accessories</td>\n",
       "      <td>101.66</td>\n",
       "      <td>3</td>\n",
       "      <td>304.98</td>\n",
       "      <td>2019-03-30 00:00:00.000000000</td>\n",
       "      <td>2023-11-05 20:37:00.000000000</td>\n",
       "      <td>Cash</td>\n",
       "      <td>0.00</td>\n",
       "      <td>45.75</td>\n",
       "      <td>259.23</td>\n",
       "      <td>86.41</td>\n",
       "    </tr>\n",
       "    <tr>\n",
       "      <th>1167</th>\n",
       "      <td>115-38-7382</td>\n",
       "      <td>C</td>\n",
       "      <td>Naypyitaw</td>\n",
       "      <td>Member</td>\n",
       "      <td>Female</td>\n",
       "      <td>Fashion accessories</td>\n",
       "      <td>4.64</td>\n",
       "      <td>8</td>\n",
       "      <td>37.12</td>\n",
       "      <td>2019-03-30 00:00:00.000000000</td>\n",
       "      <td>2023-11-05 12:51:00.000000000</td>\n",
       "      <td>Credit card</td>\n",
       "      <td>1.11</td>\n",
       "      <td>9.28</td>\n",
       "      <td>27.84</td>\n",
       "      <td>3.48</td>\n",
       "    </tr>\n",
       "    <tr>\n",
       "      <th>1168</th>\n",
       "      <td>115-38-7382</td>\n",
       "      <td>C</td>\n",
       "      <td>Naypyitaw</td>\n",
       "      <td>Member</td>\n",
       "      <td>Female</td>\n",
       "      <td>Fashion accessories</td>\n",
       "      <td>4.97</td>\n",
       "      <td>8</td>\n",
       "      <td>39.75</td>\n",
       "      <td>2019-03-30 00:00:00.000000000</td>\n",
       "      <td>2023-11-05 12:51:00.000000000</td>\n",
       "      <td>Credit card</td>\n",
       "      <td>1.19</td>\n",
       "      <td>9.94</td>\n",
       "      <td>29.81</td>\n",
       "      <td>3.73</td>\n",
       "    </tr>\n",
       "  </tbody>\n",
       "</table>\n",
       "<p>1169 rows × 16 columns</p>\n",
       "</div>"
      ],
      "text/plain": [
       "       Invoice_ID Branch       City Customer_type  Gender  \\\n",
       "0     765-26-6951      A     Yangon        Normal    Male   \n",
       "1     530-90-9855      A     Yangon        Member    Male   \n",
       "2     891-01-7034      B   Mandalay        Normal    Male   \n",
       "3     493-65-6248      C  Naypyitaw        Member  Female   \n",
       "4     556-97-7101      C  Naypyitaw        Normal  Female   \n",
       "...           ...    ...        ...           ...     ...   \n",
       "1164  291-55-6563      A     Yangon        Member  Female   \n",
       "1165  361-85-2571      A     Yangon        Normal  Female   \n",
       "1166  364-34-2972      C  Naypyitaw        Member    Male   \n",
       "1167  115-38-7382      C  Naypyitaw        Member  Female   \n",
       "1168  115-38-7382      C  Naypyitaw        Member  Female   \n",
       "\n",
       "                Product_line  Unit_price  Quantity   Total  \\\n",
       "0          Sports and travel       76.24         6  457.44   \n",
       "1         Home and lifestyle       49.97         8  399.76   \n",
       "2     Electronic accessories       78.45         6  470.67   \n",
       "3          Sports and travel       38.83        10  388.29   \n",
       "4     Electronic accessories       66.38         2  132.76   \n",
       "...                      ...         ...       ...     ...   \n",
       "1164      Home and lifestyle       36.14         6  216.85   \n",
       "1165       Sports and travel       93.95         5  469.77   \n",
       "1166  Electronic accessories      101.66         3  304.98   \n",
       "1167     Fashion accessories        4.64         8   37.12   \n",
       "1168     Fashion accessories        4.97         8   39.75   \n",
       "\n",
       "                               Date                           Time  \\\n",
       "0     2019-01-01 00:00:00.000000000  2023-11-05 10:39:00.000000000   \n",
       "1     2019-01-01 00:00:00.000000000  2023-11-05 14:47:00.000000000   \n",
       "2     2019-01-01 00:00:00.000000000  2023-11-05 19:07:00.000000000   \n",
       "3     2019-01-01 00:00:00.000000000  2023-11-05 19:48:00.000000000   \n",
       "4     2019-01-01 00:00:00.000000000  2023-11-05 15:51:00.000000000   \n",
       "...                             ...                            ...   \n",
       "1164  2019-03-30 00:00:00.000000000  2023-11-05 12:45:00.000000000   \n",
       "1165  2019-03-30 00:00:00.000000000  2023-11-05 10:18:00.000000000   \n",
       "1166  2019-03-30 00:00:00.000000000  2023-11-05 20:37:00.000000000   \n",
       "1167  2019-03-30 00:00:00.000000000  2023-11-05 12:51:00.000000000   \n",
       "1168  2019-03-30 00:00:00.000000000  2023-11-05 12:51:00.000000000   \n",
       "\n",
       "          Payment  Payments_fee  Gross_income  Cost_price  Unit_cost  \n",
       "0     Credit card         13.72         68.62      388.82      64.80  \n",
       "1            Cash          0.00         71.96      327.80      40.98  \n",
       "2            Cash          0.00         70.60      400.07      66.68  \n",
       "3     Credit card         11.65         58.24      330.05      33.01  \n",
       "4            Cash          0.00         19.91      112.85      56.43  \n",
       "...           ...           ...           ...         ...        ...  \n",
       "1164      Ewallet          3.25         39.03      177.82      29.64  \n",
       "1165         Cash          0.00         70.47      399.30      79.86  \n",
       "1166         Cash          0.00         45.75      259.23      86.41  \n",
       "1167  Credit card          1.11          9.28       27.84       3.48  \n",
       "1168  Credit card          1.19          9.94       29.81       3.73  \n",
       "\n",
       "[1169 rows x 16 columns]"
      ]
     },
     "execution_count": 3,
     "metadata": {},
     "output_type": "execute_result"
    }
   ],
   "source": [
    "import os\n",
    "import pandas as pd\n",
    "df = pd.read_csv(os.path.join(\"clear_data.csv\"))\n",
    "df"
   ]
  },
  {
   "cell_type": "code",
   "execution_count": 81,
   "metadata": {},
   "outputs": [
    {
     "name": "stdout",
     "output_type": "stream",
     "text": [
      "Collecting SQLAlchemy\n",
      "  Downloading SQLAlchemy-2.0.23-cp310-cp310-manylinux_2_17_x86_64.manylinux2014_x86_64.whl.metadata (9.6 kB)\n",
      "Collecting typing-extensions>=4.2.0 (from SQLAlchemy)\n",
      "  Downloading typing_extensions-4.8.0-py3-none-any.whl.metadata (3.0 kB)\n",
      "Collecting greenlet!=0.4.17 (from SQLAlchemy)\n",
      "  Downloading greenlet-3.0.1-cp310-cp310-manylinux_2_24_x86_64.manylinux_2_28_x86_64.whl.metadata (3.7 kB)\n",
      "Downloading SQLAlchemy-2.0.23-cp310-cp310-manylinux_2_17_x86_64.manylinux2014_x86_64.whl (3.0 MB)\n",
      "\u001b[2K   \u001b[90m━━━━━━━━━━━━━━━━━━━━━━━━━━━━━━━━━━━━━━━━\u001b[0m \u001b[32m3.0/3.0 MB\u001b[0m \u001b[31m6.0 MB/s\u001b[0m eta \u001b[36m0:00:00\u001b[0m00:01\u001b[0m00:01\u001b[0m\n",
      "\u001b[?25hUsing cached greenlet-3.0.1-cp310-cp310-manylinux_2_24_x86_64.manylinux_2_28_x86_64.whl (613 kB)\n",
      "Downloading typing_extensions-4.8.0-py3-none-any.whl (31 kB)\n",
      "Installing collected packages: typing-extensions, greenlet, SQLAlchemy\n",
      "Successfully installed SQLAlchemy-2.0.23 greenlet-3.0.1 typing-extensions-4.8.0\n"
     ]
    }
   ],
   "source": [
    "# поставим необходимую для загрузки данных библиотеку\n",
    "!pip install SQLAlchemy"
   ]
  },
  {
   "cell_type": "code",
   "execution_count": 4,
   "metadata": {},
   "outputs": [
    {
     "name": "stdout",
     "output_type": "stream",
     "text": [
      "Branch\n",
      "  Branch\n",
      "0      A\n",
      "2      B\n",
      "3      C\n"
     ]
    },
    {
     "name": "stderr",
     "output_type": "stream",
     "text": [
      "/tmp/ipykernel_45488/3635520179.py:12: SettingWithCopyWarning: \n",
      "A value is trying to be set on a copy of a slice from a DataFrame\n",
      "\n",
      "See the caveats in the documentation: https://pandas.pydata.org/pandas-docs/stable/user_guide/indexing.html#returning-a-view-versus-a-copy\n",
      "  temp_df.drop_duplicates(inplace=True)\n",
      "/tmp/ipykernel_45488/3635520179.py:12: SettingWithCopyWarning: \n",
      "A value is trying to be set on a copy of a slice from a DataFrame\n",
      "\n",
      "See the caveats in the documentation: https://pandas.pydata.org/pandas-docs/stable/user_guide/indexing.html#returning-a-view-versus-a-copy\n",
      "  temp_df.drop_duplicates(inplace=True)\n"
     ]
    },
    {
     "name": "stdout",
     "output_type": "stream",
     "text": [
      "City\n",
      "        City\n",
      "0     Yangon\n",
      "2   Mandalay\n",
      "3  Naypyitaw\n",
      "Product_line\n",
      "               Product_line\n",
      "0         Sports and travel\n",
      "1        Home and lifestyle\n",
      "2    Electronic accessories\n",
      "5         Health and beauty\n",
      "6       Fashion accessories\n",
      "10       Food and beverages\n",
      "12  Clothes and accessories\n"
     ]
    },
    {
     "name": "stderr",
     "output_type": "stream",
     "text": [
      "/tmp/ipykernel_45488/3635520179.py:12: SettingWithCopyWarning: \n",
      "A value is trying to be set on a copy of a slice from a DataFrame\n",
      "\n",
      "See the caveats in the documentation: https://pandas.pydata.org/pandas-docs/stable/user_guide/indexing.html#returning-a-view-versus-a-copy\n",
      "  temp_df.drop_duplicates(inplace=True)\n"
     ]
    },
    {
     "name": "stdout",
     "output_type": "stream",
     "text": [
      "Customer_type\n",
      "  Customer_type\n",
      "0        Normal\n",
      "1        Member\n",
      "Gender\n",
      "   Gender\n",
      "0    Male\n",
      "3  Female\n"
     ]
    },
    {
     "name": "stderr",
     "output_type": "stream",
     "text": [
      "/tmp/ipykernel_45488/3635520179.py:12: SettingWithCopyWarning: \n",
      "A value is trying to be set on a copy of a slice from a DataFrame\n",
      "\n",
      "See the caveats in the documentation: https://pandas.pydata.org/pandas-docs/stable/user_guide/indexing.html#returning-a-view-versus-a-copy\n",
      "  temp_df.drop_duplicates(inplace=True)\n",
      "/tmp/ipykernel_45488/3635520179.py:12: SettingWithCopyWarning: \n",
      "A value is trying to be set on a copy of a slice from a DataFrame\n",
      "\n",
      "See the caveats in the documentation: https://pandas.pydata.org/pandas-docs/stable/user_guide/indexing.html#returning-a-view-versus-a-copy\n",
      "  temp_df.drop_duplicates(inplace=True)\n"
     ]
    },
    {
     "name": "stdout",
     "output_type": "stream",
     "text": [
      "Payment\n",
      "       Payment\n",
      "0  Credit card\n",
      "1         Cash\n",
      "7      Ewallet\n"
     ]
    },
    {
     "name": "stderr",
     "output_type": "stream",
     "text": [
      "/tmp/ipykernel_45488/3635520179.py:12: SettingWithCopyWarning: \n",
      "A value is trying to be set on a copy of a slice from a DataFrame\n",
      "\n",
      "See the caveats in the documentation: https://pandas.pydata.org/pandas-docs/stable/user_guide/indexing.html#returning-a-view-versus-a-copy\n",
      "  temp_df.drop_duplicates(inplace=True)\n"
     ]
    }
   ],
   "source": [
    "# Добавим в БД справочники:\n",
    "# https://www.alixaprodev.com/how-to-insert-pandas-dataframe-to-sqlite-table-in-python/\n",
    "# https://stackoverflow.com/questions/53189071/insert-a-pandas-dataframe-into-a-sqlite-table-update-a-table-with-a-dataframe\n",
    "\n",
    "from sqlalchemy import create_engine\n",
    "engine = create_engine('sqlite:///sales.db', echo=False)\n",
    "\n",
    "# [\"Branch\", \"City\", \"Product_Line\", \"Customer_Type\", \"Customer_Type\", \"Gender\", \"Payment\"]:\n",
    "for cl in [\"Branch\", \"City\", \"Product_line\", \"Customer_type\", \"Gender\", \"Payment\"]:\n",
    "    print(cl)\n",
    "    temp_df = df[[cl]]\n",
    "    temp_df.drop_duplicates(inplace=True)\n",
    "    print(temp_df)\n",
    "    temp_df.to_sql(cl, con=engine, if_exists='replace', index=False)\n",
    "\n",
    "    "
   ]
  },
  {
   "cell_type": "code",
   "execution_count": 5,
   "metadata": {},
   "outputs": [
    {
     "data": {
      "text/plain": [
       "1169"
      ]
     },
     "execution_count": 5,
     "metadata": {},
     "output_type": "execute_result"
    }
   ],
   "source": [
    "# Добавим продажи\n",
    "df.to_sql(\"Sales\", con=engine, if_exists='replace', index=False)"
   ]
  },
  {
   "cell_type": "markdown",
   "metadata": {},
   "source": [
    "## Исследование данных с помощью библиотеки sqlite3"
   ]
  },
  {
   "cell_type": "markdown",
   "metadata": {},
   "source": [
    "**1. В каких городах были продажи**"
   ]
  },
  {
   "cell_type": "code",
   "execution_count": 15,
   "metadata": {},
   "outputs": [
    {
     "name": "stdout",
     "output_type": "stream",
     "text": [
      "['Yangon', 'Mandalay', 'Naypyitaw']\n"
     ]
    }
   ],
   "source": [
    "connection = sqlite3.connect(os.path.join(\"sales.db\"))\n",
    "cursor = connection.cursor()\n",
    "\n",
    "# ожидается такой ответ:\n",
    "query = \"SELECT DISTINCT(City) FROM Sales\"\n",
    "rows = cursor.execute(query)\n",
    "print([x[0] for x in rows])"
   ]
  },
  {
   "cell_type": "code",
   "execution_count": 16,
   "metadata": {},
   "outputs": [
    {
     "name": "stdout",
     "output_type": "stream",
     "text": [
      "['Yangon', 'Mandalay', 'Naypyitaw']\n"
     ]
    }
   ],
   "source": [
    "# второй вариант, тривиальный, но не противоречащий заданию:\n",
    "query = \"SELECT * FROM City\"\n",
    "rows = cursor.execute(query)\n",
    "print([x[0] for x in rows])"
   ]
  },
  {
   "cell_type": "markdown",
   "metadata": {},
   "source": [
    "**2. Какая категория товара лидирует по числу продаж в ед. товара, а какая по суммарным продажам?**"
   ]
  },
  {
   "cell_type": "code",
   "execution_count": 20,
   "metadata": {},
   "outputs": [
    {
     "name": "stdout",
     "output_type": "stream",
     "text": [
      "('Clothes and accessories', 829, 18188.40000000001)\n",
      "('Electronic accessories', 971, 54337.63999999999)\n",
      "('Fashion accessories', 1015, 56769.979999999996)\n",
      "('Food and beverages', 952, 56144.96000000001)\n",
      "('Health and beauty', 854, 49193.84000000002)\n",
      "('Home and lifestyle', 911, 53861.960000000036)\n",
      "('Sports and travel', 920, 55123.00000000001)\n"
     ]
    }
   ],
   "source": [
    "query = \"SELECT Product_line, SUM(Quantity), SUM(Total) FROM Sales GROUP BY Product_line\"\n",
    "rows = cursor.execute(query)\n",
    "for x in rows:\n",
    "    print(x)"
   ]
  },
  {
   "cell_type": "markdown",
   "metadata": {},
   "source": [
    "Из запроса видно, что \n",
    "- по числу продаж лидирует Fashion accessories, продано 1015 единиц\n",
    "- по выручке также лидирует Fashion accessories, продано на сумму 56769.98\n",
    "\n"
   ]
  },
  {
   "cell_type": "code",
   "execution_count": 21,
   "metadata": {},
   "outputs": [
    {
     "data": {
      "text/html": [
       "<div>\n",
       "<style scoped>\n",
       "    .dataframe tbody tr th:only-of-type {\n",
       "        vertical-align: middle;\n",
       "    }\n",
       "\n",
       "    .dataframe tbody tr th {\n",
       "        vertical-align: top;\n",
       "    }\n",
       "\n",
       "    .dataframe thead th {\n",
       "        text-align: right;\n",
       "    }\n",
       "</style>\n",
       "<table border=\"1\" class=\"dataframe\">\n",
       "  <thead>\n",
       "    <tr style=\"text-align: right;\">\n",
       "      <th></th>\n",
       "      <th>Product_line</th>\n",
       "      <th>Quantity</th>\n",
       "      <th>Total</th>\n",
       "    </tr>\n",
       "  </thead>\n",
       "  <tbody>\n",
       "    <tr>\n",
       "      <th>0</th>\n",
       "      <td>Clothes and accessories</td>\n",
       "      <td>829</td>\n",
       "      <td>18188.40</td>\n",
       "    </tr>\n",
       "    <tr>\n",
       "      <th>1</th>\n",
       "      <td>Electronic accessories</td>\n",
       "      <td>971</td>\n",
       "      <td>54337.64</td>\n",
       "    </tr>\n",
       "    <tr>\n",
       "      <th>2</th>\n",
       "      <td>Fashion accessories</td>\n",
       "      <td>1015</td>\n",
       "      <td>56769.98</td>\n",
       "    </tr>\n",
       "    <tr>\n",
       "      <th>3</th>\n",
       "      <td>Food and beverages</td>\n",
       "      <td>952</td>\n",
       "      <td>56144.96</td>\n",
       "    </tr>\n",
       "    <tr>\n",
       "      <th>4</th>\n",
       "      <td>Health and beauty</td>\n",
       "      <td>854</td>\n",
       "      <td>49193.84</td>\n",
       "    </tr>\n",
       "    <tr>\n",
       "      <th>5</th>\n",
       "      <td>Home and lifestyle</td>\n",
       "      <td>911</td>\n",
       "      <td>53861.96</td>\n",
       "    </tr>\n",
       "    <tr>\n",
       "      <th>6</th>\n",
       "      <td>Sports and travel</td>\n",
       "      <td>920</td>\n",
       "      <td>55123.00</td>\n",
       "    </tr>\n",
       "  </tbody>\n",
       "</table>\n",
       "</div>"
      ],
      "text/plain": [
       "              Product_line  Quantity     Total\n",
       "0  Clothes and accessories       829  18188.40\n",
       "1   Electronic accessories       971  54337.64\n",
       "2      Fashion accessories      1015  56769.98\n",
       "3       Food and beverages       952  56144.96\n",
       "4        Health and beauty       854  49193.84\n",
       "5       Home and lifestyle       911  53861.96\n",
       "6        Sports and travel       920  55123.00"
      ]
     },
     "execution_count": 21,
     "metadata": {},
     "output_type": "execute_result"
    }
   ],
   "source": [
    "# Можно сделать красивее, превратив полученные списки кортежей в датафрейм (но задание этого не требует):\n",
    "query = \"SELECT Product_line, SUM(Quantity), SUM(Total) FROM Sales GROUP BY Product_line\"\n",
    "rows = cursor.execute(query)\n",
    "rows_df = pd.DataFrame(rows, columns=[\"Product_line\", \"Quantity\", \"Total\"])\n",
    "rows_df"
   ]
  },
  {
   "cell_type": "markdown",
   "metadata": {},
   "source": [
    "**3. В какой день были минимальные, а в какой максимальные продажи по суммарной выручке за день?**"
   ]
  },
  {
   "cell_type": "code",
   "execution_count": 30,
   "metadata": {},
   "outputs": [
    {
     "data": {
      "text/plain": [
       "[('2019-03-09 00:00:00.000000000', 8164.920000000001)]"
      ]
     },
     "execution_count": 30,
     "metadata": {},
     "output_type": "execute_result"
    }
   ],
   "source": [
    "# Выведем день с максимальными продажами\n",
    "query_max = '''SELECT Date, max(DaySale) FROM \n",
    "            (SELECT Date, SUM(Total) as DaySale FROM Sales \n",
    "                GROUP BY Date)'''\n",
    "rows = cursor.execute(query_max)\n",
    "list(rows)"
   ]
  },
  {
   "cell_type": "code",
   "execution_count": 37,
   "metadata": {},
   "outputs": [
    {
     "data": {
      "text/plain": [
       "[('2019-02-13 00:00:00.000000000', 1172.78)]"
      ]
     },
     "execution_count": 37,
     "metadata": {},
     "output_type": "execute_result"
    }
   ],
   "source": [
    "# Выведем день с минимальными продажами\n",
    "query_min = '''SELECT Date, min(DaySale) FROM \n",
    "            (SELECT Date, SUM(Total) as DaySale FROM Sales \n",
    "                GROUP BY Date)'''\n",
    "rows = cursor.execute(query_min)\n",
    "list(rows)"
   ]
  },
  {
   "cell_type": "markdown",
   "metadata": {},
   "source": [
    "**Замечание**\n",
    "\n",
    "Полученная минимальные сумма продаж и дата формально правильная, но вдумчивый аналитик, должен догадаться, что в данных какая-то ошибка (мы сами ее внесли, когда усредняли пропущенные значения). Надо заменить эту дату на '2019-02-13 00:00:00.000000000' и повторить поиск минимальной суммы и даты"
   ]
  },
  {
   "cell_type": "code",
   "execution_count": 36,
   "metadata": {},
   "outputs": [
    {
     "data": {
      "text/plain": [
       "<sqlite3.Cursor at 0x7f5f509383c0>"
      ]
     },
     "execution_count": 36,
     "metadata": {},
     "output_type": "execute_result"
    }
   ],
   "source": [
    "query_update = \"\"\"UPDATE Sales SET Date = '2019-02-13 00:00:00.000000000'\n",
    "                    WHERE Date = '2019-02-13 23:51:22.191780864'\"\"\"\n",
    "cursor.execute(query_update)"
   ]
  },
  {
   "cell_type": "code",
   "execution_count": 38,
   "metadata": {},
   "outputs": [
    {
     "data": {
      "text/plain": [
       "[('2019-02-13 00:00:00.000000000', 1172.78)]"
      ]
     },
     "execution_count": 38,
     "metadata": {},
     "output_type": "execute_result"
    }
   ],
   "source": [
    "# Еще раз получим день с минимальными продажами \n",
    "rows = cursor.execute(query_min)\n",
    "list(rows)"
   ]
  },
  {
   "cell_type": "markdown",
   "metadata": {},
   "source": [
    "Таким образом, \n",
    "- максимальный продажи были 9 марта и составили 8164.92\n",
    "- минимальные продажи были 13 февраля и составили 1172.78\n"
   ]
  },
  {
   "cell_type": "markdown",
   "metadata": {},
   "source": [
    "**4. Женщины или мужчины приносят больше выручки?**"
   ]
  },
  {
   "cell_type": "code",
   "execution_count": 41,
   "metadata": {},
   "outputs": [
    {
     "data": {
      "text/plain": [
       "[('Female', 193316.2500000001), ('Male', 150303.52999999997)]"
      ]
     },
     "execution_count": 41,
     "metadata": {},
     "output_type": "execute_result"
    }
   ],
   "source": [
    "query = \"SELECT Gender, SUM(Total) FROM Sales GROUP BY Gender\"\n",
    "rows = cursor.execute(query)\n",
    "list(rows)"
   ]
  },
  {
   "cell_type": "markdown",
   "metadata": {},
   "source": [
    "Видим, что больше выручки принесли женщины 193316.25 vs 150303.53 у мужчин "
   ]
  },
  {
   "cell_type": "markdown",
   "metadata": {},
   "source": [
    "**5. Отличаются ли мужской средний чек от женского?**"
   ]
  },
  {
   "cell_type": "code",
   "execution_count": 48,
   "metadata": {},
   "outputs": [
    {
     "data": {
      "text/plain": [
       "[('Female', 636, 193316.2500000001, 303.9563679245284),\n",
       " ('Male', 533, 150303.52999999997, 281.9953658536585)]"
      ]
     },
     "execution_count": 48,
     "metadata": {},
     "output_type": "execute_result"
    }
   ],
   "source": [
    "# Посчитаем средний чек у женщин\n",
    "\n",
    "query = \"\"\"SELECT Gender, COUNT(*), SUM(Total), SUM(Total)/COUNT(*) as AverageBill  \n",
    "            FROM Sales GROUP BY Gender\"\"\"\n",
    "rows = cursor.execute(query)\n",
    "list(rows)"
   ]
  },
  {
   "cell_type": "markdown",
   "metadata": {},
   "source": [
    "Средний чек у женщин = 303,96 больше, чем у мужчин = 282"
   ]
  },
  {
   "cell_type": "markdown",
   "metadata": {},
   "source": [
    "**6. Вывести выручку и маржинальную прибыль в разрезе товарных категорий**"
   ]
  },
  {
   "cell_type": "code",
   "execution_count": 49,
   "metadata": {},
   "outputs": [
    {
     "data": {
      "text/html": [
       "<div>\n",
       "<style scoped>\n",
       "    .dataframe tbody tr th:only-of-type {\n",
       "        vertical-align: middle;\n",
       "    }\n",
       "\n",
       "    .dataframe tbody tr th {\n",
       "        vertical-align: top;\n",
       "    }\n",
       "\n",
       "    .dataframe thead th {\n",
       "        text-align: right;\n",
       "    }\n",
       "</style>\n",
       "<table border=\"1\" class=\"dataframe\">\n",
       "  <thead>\n",
       "    <tr style=\"text-align: right;\">\n",
       "      <th></th>\n",
       "      <th>Product_line</th>\n",
       "      <th>Quantity</th>\n",
       "      <th>Total</th>\n",
       "    </tr>\n",
       "  </thead>\n",
       "  <tbody>\n",
       "    <tr>\n",
       "      <th>0</th>\n",
       "      <td>Clothes and accessories</td>\n",
       "      <td>1273.300000</td>\n",
       "      <td>18188.40</td>\n",
       "    </tr>\n",
       "    <tr>\n",
       "      <th>1</th>\n",
       "      <td>Electronic accessories</td>\n",
       "      <td>8150.720000</td>\n",
       "      <td>54337.64</td>\n",
       "    </tr>\n",
       "    <tr>\n",
       "      <th>2</th>\n",
       "      <td>Fashion accessories</td>\n",
       "      <td>14242.092877</td>\n",
       "      <td>56769.98</td>\n",
       "    </tr>\n",
       "    <tr>\n",
       "      <th>3</th>\n",
       "      <td>Food and beverages</td>\n",
       "      <td>6737.400000</td>\n",
       "      <td>56144.96</td>\n",
       "    </tr>\n",
       "    <tr>\n",
       "      <th>4</th>\n",
       "      <td>Health and beauty</td>\n",
       "      <td>10822.700000</td>\n",
       "      <td>49193.84</td>\n",
       "    </tr>\n",
       "    <tr>\n",
       "      <th>5</th>\n",
       "      <td>Home and lifestyle</td>\n",
       "      <td>9695.140000</td>\n",
       "      <td>53861.96</td>\n",
       "    </tr>\n",
       "    <tr>\n",
       "      <th>6</th>\n",
       "      <td>Sports and travel</td>\n",
       "      <td>8268.480000</td>\n",
       "      <td>55123.00</td>\n",
       "    </tr>\n",
       "  </tbody>\n",
       "</table>\n",
       "</div>"
      ],
      "text/plain": [
       "              Product_line      Quantity     Total\n",
       "0  Clothes and accessories   1273.300000  18188.40\n",
       "1   Electronic accessories   8150.720000  54337.64\n",
       "2      Fashion accessories  14242.092877  56769.98\n",
       "3       Food and beverages   6737.400000  56144.96\n",
       "4        Health and beauty  10822.700000  49193.84\n",
       "5       Home and lifestyle   9695.140000  53861.96\n",
       "6        Sports and travel   8268.480000  55123.00"
      ]
     },
     "execution_count": 49,
     "metadata": {},
     "output_type": "execute_result"
    }
   ],
   "source": [
    "query = \"SELECT Product_line, SUM(Gross_income), SUM(Total) FROM Sales GROUP BY Product_line\"\n",
    "rows = cursor.execute(query)\n",
    "rows_df = pd.DataFrame(rows, columns=[\"Product_line\", \"Gross_income\", \"Total\"])\n",
    "rows_df"
   ]
  },
  {
   "cell_type": "code",
   "execution_count": 50,
   "metadata": {},
   "outputs": [
    {
     "data": {
      "text/html": [
       "<div>\n",
       "<style scoped>\n",
       "    .dataframe tbody tr th:only-of-type {\n",
       "        vertical-align: middle;\n",
       "    }\n",
       "\n",
       "    .dataframe tbody tr th {\n",
       "        vertical-align: top;\n",
       "    }\n",
       "\n",
       "    .dataframe thead th {\n",
       "        text-align: right;\n",
       "    }\n",
       "</style>\n",
       "<table border=\"1\" class=\"dataframe\">\n",
       "  <thead>\n",
       "    <tr style=\"text-align: right;\">\n",
       "      <th></th>\n",
       "      <th>Product_line</th>\n",
       "      <th>Gross_income</th>\n",
       "      <th>Total</th>\n",
       "      <th>Profitability</th>\n",
       "    </tr>\n",
       "  </thead>\n",
       "  <tbody>\n",
       "    <tr>\n",
       "      <th>0</th>\n",
       "      <td>Clothes and accessories</td>\n",
       "      <td>1273.300000</td>\n",
       "      <td>18188.40</td>\n",
       "      <td>0.070006</td>\n",
       "    </tr>\n",
       "    <tr>\n",
       "      <th>1</th>\n",
       "      <td>Electronic accessories</td>\n",
       "      <td>8150.720000</td>\n",
       "      <td>54337.64</td>\n",
       "      <td>0.150001</td>\n",
       "    </tr>\n",
       "    <tr>\n",
       "      <th>2</th>\n",
       "      <td>Fashion accessories</td>\n",
       "      <td>14242.092877</td>\n",
       "      <td>56769.98</td>\n",
       "      <td>0.250874</td>\n",
       "    </tr>\n",
       "    <tr>\n",
       "      <th>3</th>\n",
       "      <td>Food and beverages</td>\n",
       "      <td>6737.400000</td>\n",
       "      <td>56144.96</td>\n",
       "      <td>0.120000</td>\n",
       "    </tr>\n",
       "    <tr>\n",
       "      <th>4</th>\n",
       "      <td>Health and beauty</td>\n",
       "      <td>10822.700000</td>\n",
       "      <td>49193.84</td>\n",
       "      <td>0.220001</td>\n",
       "    </tr>\n",
       "    <tr>\n",
       "      <th>5</th>\n",
       "      <td>Home and lifestyle</td>\n",
       "      <td>9695.140000</td>\n",
       "      <td>53861.96</td>\n",
       "      <td>0.180000</td>\n",
       "    </tr>\n",
       "    <tr>\n",
       "      <th>6</th>\n",
       "      <td>Sports and travel</td>\n",
       "      <td>8268.480000</td>\n",
       "      <td>55123.00</td>\n",
       "      <td>0.150001</td>\n",
       "    </tr>\n",
       "  </tbody>\n",
       "</table>\n",
       "</div>"
      ],
      "text/plain": [
       "              Product_line  Gross_income     Total  Profitability\n",
       "0  Clothes and accessories   1273.300000  18188.40       0.070006\n",
       "1   Electronic accessories   8150.720000  54337.64       0.150001\n",
       "2      Fashion accessories  14242.092877  56769.98       0.250874\n",
       "3       Food and beverages   6737.400000  56144.96       0.120000\n",
       "4        Health and beauty  10822.700000  49193.84       0.220001\n",
       "5       Home and lifestyle   9695.140000  53861.96       0.180000\n",
       "6        Sports and travel   8268.480000  55123.00       0.150001"
      ]
     },
     "execution_count": 50,
     "metadata": {},
     "output_type": "execute_result"
    }
   ],
   "source": [
    "# Из любви к искусству добавим маржинальную рентабельность:\n",
    "query = \"SELECT Product_line, SUM(Gross_income), SUM(Total), SUM(Gross_income)/SUM(Total) FROM Sales GROUP BY Product_line\"\n",
    "rows = cursor.execute(query)\n",
    "rows_df = pd.DataFrame(rows, columns=[\"Product_line\", \"Gross_income\", \"Total\", \"Profitability\"])\n",
    "rows_df"
   ]
  }
 ],
 "metadata": {
  "kernelspec": {
   "display_name": ".venv",
   "language": "python",
   "name": "python3"
  },
  "language_info": {
   "codemirror_mode": {
    "name": "ipython",
    "version": 3
   },
   "file_extension": ".py",
   "mimetype": "text/x-python",
   "name": "python",
   "nbconvert_exporter": "python",
   "pygments_lexer": "ipython3",
   "version": "3.10.12"
  }
 },
 "nbformat": 4,
 "nbformat_minor": 2
}
